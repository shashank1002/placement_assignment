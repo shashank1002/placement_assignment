{
 "cells": [
  {
   "cell_type": "code",
   "execution_count": null,
   "id": "11935381",
   "metadata": {},
   "outputs": [],
   "source": [
    "'''**Question 1**\n",
    "\n",
    "Given an integer `n`, return *`true` if it is a power of three. Otherwise, return `false`*.\n",
    "\n",
    "An integer `n` is a power of three, if there exists an integer `x` such that `n == 3x`.\n",
    "\n",
    "**Example 1:**\n",
    "\n",
    "```\n",
    "Input: n = 27\n",
    "Output: true\n",
    "Explanation: 27 = 33\n",
    "**Example 2:**\n",
    "\n",
    "```\n",
    "Input: n = 0\n",
    "Output: false\n",
    "Explanation: There is no x where 3x = 0.\n",
    "\n",
    "```\n",
    "\n",
    "**Example 3:**\n",
    "\n",
    "```\n",
    "Input: n = -1\n",
    "Output: false\n",
    "Explanation: There is no x where 3x = (-1).'''"
   ]
  },
  {
   "cell_type": "code",
   "execution_count": 16,
   "id": "55899b3c",
   "metadata": {},
   "outputs": [
    {
     "name": "stdout",
     "output_type": "stream",
     "text": [
      "5\n"
     ]
    },
    {
     "data": {
      "text/plain": [
       "False"
      ]
     },
     "execution_count": 16,
     "metadata": {},
     "output_type": "execute_result"
    }
   ],
   "source": [
    "n = int(input())\n",
    "def power(n):\n",
    "    if n<=0:\n",
    "        return False\n",
    "    if n==1:\n",
    "        return True\n",
    "    if n%3!=0:\n",
    "        return False\n",
    "    return power(n//3)\n",
    "power(n)"
   ]
  },
  {
   "cell_type": "code",
   "execution_count": 19,
   "id": "230c44fc",
   "metadata": {},
   "outputs": [
    {
     "data": {
      "text/plain": [
       "'**Question 2**\\n\\nYou have a list\\xa0`arr`\\xa0of all integers in the range\\xa0`[1, n]`\\xa0sorted in a strictly increasing order. Apply the following algorithm on\\xa0`arr`:\\n\\n- Starting from left to right, remove the first number and every other number afterward until you reach the end of the list.\\n- Repeat the previous step again, but this time from right to left, remove the rightmost number and every other number from the remaining numbers.\\n- Keep repeating the steps again, alternating left to right and right to left, until a single number remains.\\n\\nGiven the integer\\xa0`n`, return\\xa0*the last number that remains in*\\xa0`arr`.\\n\\n**Example 1:**\\n\\n```\\nInput: n = 9\\nOutput: 6\\nExplanation:\\narr = [1, 2,3, 4,5, 6,7, 8,9]\\narr = [2,4, 6,8]\\narr = [2, 6]\\narr = [6]\\n\\n```\\n\\n**Example 2:**\\n\\n```\\nInput: n = 1\\nOutput: 1'"
      ]
     },
     "execution_count": 19,
     "metadata": {},
     "output_type": "execute_result"
    }
   ],
   "source": [
    "'''**Question 2**\n",
    "\n",
    "You have a list `arr` of all integers in the range `[1, n]` sorted in a strictly increasing order. Apply the following algorithm on `arr`:\n",
    "\n",
    "- Starting from left to right, remove the first number and every other number afterward until you reach the end of the list.\n",
    "- Repeat the previous step again, but this time from right to left, remove the rightmost number and every other number from the remaining numbers.\n",
    "- Keep repeating the steps again, alternating left to right and right to left, until a single number remains.\n",
    "\n",
    "Given the integer `n`, return *the last number that remains in* `arr`.\n",
    "\n",
    "**Example 1:**\n",
    "\n",
    "```\n",
    "Input: n = 9\n",
    "Output: 6\n",
    "Explanation:\n",
    "arr = [1, 2,3, 4,5, 6,7, 8,9]\n",
    "arr = [2,4, 6,8]\n",
    "arr = [2, 6]\n",
    "arr = [6]\n",
    "\n",
    "```\n",
    "\n",
    "**Example 2:**\n",
    "\n",
    "```\n",
    "Input: n = 1\n",
    "Output: 1'''"
   ]
  },
  {
   "cell_type": "code",
   "execution_count": 24,
   "id": "3d885a9a",
   "metadata": {},
   "outputs": [
    {
     "name": "stdout",
     "output_type": "stream",
     "text": [
      "9\n"
     ]
    },
    {
     "data": {
      "text/plain": [
       "6"
      ]
     },
     "execution_count": 24,
     "metadata": {},
     "output_type": "execute_result"
    }
   ],
   "source": [
    "n = int(input())\n",
    "def last(n):\n",
    "        if n == 1:\n",
    "            return 1\n",
    "        return 2 * (n // 2 - last(n // 2) + 1)\n",
    "last(n)"
   ]
  },
  {
   "cell_type": "code",
   "execution_count": null,
   "id": "947d6dab",
   "metadata": {},
   "outputs": [],
   "source": [
    "'''**Question 3**\n",
    "\n",
    "****Given a set represented as a string, write a recursive code to print all subsets of it. The subsets can be printed in any order.\n",
    "\n",
    "**Example 1:**\n",
    "\n",
    "Input :  set = “abc”\n",
    "\n",
    "Output : { “”, “a”, “b”, “c”, “ab”, “ac”, “bc”, “abc”}\n",
    "\n",
    "**Example 2:**\n",
    "\n",
    "Input : set = “abcd”\n",
    "\n",
    "Output : { “”, “a” ,”ab” ,”abc” ,”abcd”, “abd” ,”ac” ,”acd”, “ad” ,”b”, “bc” ,”bcd” ,”bd” ,”c” ,”cd” ,”d” }'''"
   ]
  },
  {
   "cell_type": "code",
   "execution_count": 2,
   "id": "caf6d0c5",
   "metadata": {},
   "outputs": [
    {
     "name": "stdout",
     "output_type": "stream",
     "text": [
      "abc\n",
      "ab\n",
      "ac\n",
      "a\n",
      "bc\n",
      "b\n",
      "c\n",
      "\n"
     ]
    }
   ],
   "source": [
    "s = \"abc\"\n",
    "n = 0\n",
    "m = \"\"\n",
    "def power(s, n, m):\n",
    "    if n == len(s):\n",
    "        print(m)\n",
    "        return\n",
    "\n",
    "    power(s, n + 1,\n",
    "            m + s[n])\n",
    "    power(s, n + 1, m)\n",
    "\n",
    "power(s, n, m)"
   ]
  },
  {
   "cell_type": "code",
   "execution_count": null,
   "id": "2f9d011f",
   "metadata": {},
   "outputs": [],
   "source": [
    "'''**Question 4**\n",
    "\n",
    "Given a string calculate length of the string using recursion.\n",
    "\n",
    "**Examples:**\n",
    "\n",
    "```\n",
    "Input : str = \"abcd\"\n",
    "Output :4\n",
    "\n",
    "Input : str = \"GEEKSFORGEEKS\"\n",
    "Output :13'''"
   ]
  },
  {
   "cell_type": "code",
   "execution_count": 1,
   "id": "ece78b17",
   "metadata": {},
   "outputs": [
    {
     "name": "stdout",
     "output_type": "stream",
     "text": [
      "13\n"
     ]
    }
   ],
   "source": [
    "s = \"GEEKSFORGEEKS\"\n",
    "def string_length(s):\n",
    "    if s == '':\n",
    "        return 0\n",
    "    else :\n",
    "        return 1 + string_length(s[1:])\n",
    "string_length(s)"
   ]
  },
  {
   "cell_type": "code",
   "execution_count": null,
   "id": "b6c44574",
   "metadata": {},
   "outputs": [],
   "source": [
    "'''**Question 5**\n",
    "\n",
    "We are given a string S, we need to find count of all contiguous substrings starting and ending with same character.\n",
    "\n",
    "**Examples :**\n",
    "\n",
    "```\n",
    "Input  : S = \"abcab\"\n",
    "Output : 7\n",
    "There are 15 substrings of \"abcab\"\n",
    "a, ab, abc, abca, abcab, b, bc, bca\n",
    "bcab, c, ca, cab, a, ab, b\n",
    "Out of the above substrings, there\n",
    "are 7 substrings : a, abca, b, bcab,\n",
    "c, a and b.\n",
    "\n",
    "Input  : S = \"aba\"\n",
    "Output : 4\n",
    "The substrings are a, b, a and aba'''"
   ]
  },
  {
   "cell_type": "code",
   "execution_count": 7,
   "id": "f92fa4d5",
   "metadata": {},
   "outputs": [
    {
     "data": {
      "text/plain": [
       "7"
      ]
     },
     "execution_count": 7,
     "metadata": {},
     "output_type": "execute_result"
    }
   ],
   "source": [
    "t = \"abcab\"\n",
    "n = len(t)\n",
    "def substrings(str, i, j, n):\n",
    "    if (n == 1):\n",
    "        return 1\n",
    "    if (n <= 0):\n",
    "        return 0\n",
    "    res = (substrings(str, i + 1, j, n - 1)\n",
    "        + substrings(str, i, j - 1, n - 1)\n",
    "        - substrings(str, i + 1, j - 1, n - 2))    \n",
    "    if (str[i] == str[j]):\n",
    "        res += 1\n",
    "    return res\n",
    " \n",
    "substrings(t, 0, n - 1, n)"
   ]
  },
  {
   "cell_type": "code",
   "execution_count": null,
   "id": "e3ca2a96",
   "metadata": {},
   "outputs": [],
   "source": [
    "'''**Question 6**\n",
    "\n",
    "The [tower of Hanoi](https://en.wikipedia.org/wiki/Tower_of_Hanoi) is a famous puzzle where we have three rods and **N** disks. The objective of the puzzle is to move the entire stack to another rod. You are given the number of discs **N**. Initially, these discs are in the rod 1. You need to print all the steps of discs movement so that all the discs reach the 3rd rod. Also, you need to find the total moves.**Note:** The discs are arranged such that the **top disc is numbered 1** and the **bottom-most disc is numbered N**. Also, all the discs have **different sizes** and a bigger disc **cannot** be put on the top of a smaller disc. Refer the provided link to get a better clarity about the puzzle.\n",
    "\n",
    "**Example 1:**\n",
    "\n",
    "```\n",
    "Input:\n",
    "N = 2\n",
    "Output:\n",
    "move disk 1 from rod 1 to rod 2\n",
    "move disk 2 from rod 1 to rod 3\n",
    "move disk 1 from rod 2 to rod 3\n",
    "3\n",
    "Explanation:For N=2 , steps will be\n",
    "as follows in the example and total\n",
    "3 steps will be taken.\n",
    "```\n",
    "\n",
    "**Example 2:**\n",
    "\n",
    "```\n",
    "Input:\n",
    "N = 3\n",
    "Output:\n",
    "move disk 1 from rod 1 to rod 3\n",
    "move disk 2 from rod 1 to rod 2\n",
    "move disk 1 from rod 3 to rod 2\n",
    "move disk 3 from rod 1 to rod 3\n",
    "move disk 1 from rod 2 to rod 1\n",
    "move disk 2 from rod 2 to rod 3\n",
    "move disk 1 from rod 1 to rod 3\n",
    "7\n",
    "Explanation:For N=3 , steps will be\n",
    "as follows in the example and total\n",
    "7 steps will be taken.'''"
   ]
  },
  {
   "cell_type": "code",
   "execution_count": 5,
   "id": "7728985a",
   "metadata": {},
   "outputs": [
    {
     "name": "stdout",
     "output_type": "stream",
     "text": [
      "3\n",
      "Move disk 1 from rod 1 to rod 1\n",
      "Move disk 2 from rod 1 to rod 3\n",
      "Move disk 1 from rod 1 to rod 3\n",
      "Move disk 3 from rod 1 to rod 2\n",
      "Move disk 1 from rod 3 to rod 1\n",
      "Move disk 2 from rod 3 to rod 2\n",
      "Move disk 1 from rod 1 to rod 2\n"
     ]
    }
   ],
   "source": [
    "n = int(input())\n",
    "def tower(n , r, d, aux):\n",
    "    if n==1:\n",
    "        print (\"Move disk 1 from rod\",r,\"to rod\",d)\n",
    "        return\n",
    "    tower(n-1, r, aux, r)\n",
    "    print (\"Move disk\",n,\"from rod\",r,\"to rod\",d)\n",
    "    tower(n-1, aux, d, r)\n",
    "         \n",
    "tower(n,'1','2','3')"
   ]
  },
  {
   "cell_type": "code",
   "execution_count": null,
   "id": "55b3f11f",
   "metadata": {},
   "outputs": [],
   "source": [
    "'''**Question 7**\n",
    "\n",
    "Given a string **str**, the task is to print all the permutations of **str**. A **permutation** is an arrangement of all or part of a set of objects, with regard to the order of the arrangement. For instance, the words ‘bat’ and ‘tab’ represents two distinct permutation (or arrangements) of a similar three letter word.\n",
    "\n",
    "**Examples:**\n",
    "\n",
    "> Input: str = “cd”\n",
    "> \n",
    "> \n",
    "> **Output:** cd dc\n",
    "> \n",
    "> **Input:** str = “abb”\n",
    "> \n",
    "> **Output:** abb abb bab bba bab bba'''"
   ]
  },
  {
   "cell_type": "code",
   "execution_count": 1,
   "id": "349e7462",
   "metadata": {},
   "outputs": [
    {
     "name": "stdout",
     "output_type": "stream",
     "text": [
      "cd\n",
      "cd  dc  "
     ]
    }
   ],
   "source": [
    "def permute(s, answer):\n",
    "    if (len(s) == 0):\n",
    "        print(answer, end = \"  \")\n",
    "        return\n",
    "     \n",
    "    for i in range(len(s)):\n",
    "        ch = s[i]\n",
    "        left_substr = s[0:i]\n",
    "        right_substr = s[i + 1:]\n",
    "        rest = left_substr + right_substr\n",
    "        permute(rest, answer + ch)\n",
    "answer = \"\"\n",
    "s = input()\n",
    "permute(s, answer)"
   ]
  },
  {
   "cell_type": "code",
   "execution_count": null,
   "id": "dfc4f65a",
   "metadata": {},
   "outputs": [],
   "source": [
    "'''**Question 8**\n",
    "\n",
    "Given a string, count total number of consonants in it. A consonant is an English alphabet character that is not vowel (a, e, i, o and u). Examples of constants are b, c, d, f, and g.\n",
    "\n",
    "**Examples :**'''"
   ]
  },
  {
   "cell_type": "code",
   "execution_count": 7,
   "id": "49d34517",
   "metadata": {},
   "outputs": [
    {
     "name": "stdout",
     "output_type": "stream",
     "text": [
      "python\n"
     ]
    },
    {
     "data": {
      "text/plain": [
       "5"
      ]
     },
     "execution_count": 7,
     "metadata": {},
     "output_type": "execute_result"
    }
   ],
   "source": [
    "s = input()\n",
    "def isConsonant(ch):\n",
    "    ch = ch.upper()\n",
    "    return not (ch == 'A' or ch == 'E' or \n",
    "                ch == 'I' or ch == 'O' or \n",
    "                ch == 'U') and ord(ch) >= 65 and ord(ch) <= 90\n",
    "def totalConsonants(s, n):\n",
    "    if n == 1:\n",
    "        return isConsonant(s[0])\n",
    "    return totalConsonants(s, n - 1) + isConsonant(s[n-1])\n",
    "totalConsonants(s, len(s))"
   ]
  }
 ],
 "metadata": {
  "kernelspec": {
   "display_name": "Python 3 (ipykernel)",
   "language": "python",
   "name": "python3"
  },
  "language_info": {
   "codemirror_mode": {
    "name": "ipython",
    "version": 3
   },
   "file_extension": ".py",
   "mimetype": "text/x-python",
   "name": "python",
   "nbconvert_exporter": "python",
   "pygments_lexer": "ipython3",
   "version": "3.9.13"
  }
 },
 "nbformat": 4,
 "nbformat_minor": 5
}
