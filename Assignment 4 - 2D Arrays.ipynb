{
 "cells": [
  {
   "cell_type": "code",
   "execution_count": 1,
   "id": "084c8138",
   "metadata": {},
   "outputs": [
    {
     "data": {
      "text/plain": [
       "'Question 1**\\nGiven three integer arrays arr1, arr2 and arr3 **sorted** in **strictly increasing** order, return a sorted array of **only** the integers that appeared in **all** three arrays.\\n\\n**Example 1:**\\n\\nInput: arr1 = [1,2,3,4,5], arr2 = [1,2,5,7,9], arr3 = [1,3,4,5,8]\\n\\nOutput: [1,5]\\n\\n**Explanation:** Only 1 and 5 appeared in the three arrays.'"
      ]
     },
     "execution_count": 1,
     "metadata": {},
     "output_type": "execute_result"
    }
   ],
   "source": [
    "'''Question 1**\n",
    "Given three integer arrays arr1, arr2 and arr3 **sorted** in **strictly increasing** order, return a sorted array of **only** the integers that appeared in **all** three arrays.\n",
    "\n",
    "**Example 1:**\n",
    "\n",
    "Input: arr1 = [1,2,3,4,5], arr2 = [1,2,5,7,9], arr3 = [1,3,4,5,8]\n",
    "\n",
    "Output: [1,5]\n",
    "\n",
    "**Explanation:** Only 1 and 5 appeared in the three arrays.'''"
   ]
  },
  {
   "cell_type": "code",
   "execution_count": 10,
   "id": "62326d6c",
   "metadata": {},
   "outputs": [
    {
     "name": "stdout",
     "output_type": "stream",
     "text": [
      "1 2 3 4 5\n",
      "1 2 5 7 9\n",
      "1 3 4 5 8\n",
      "[1, 5]\n"
     ]
    }
   ],
   "source": [
    "num1 = list(map(int,input().split()))\n",
    "num2 = list(map(int,input().split()))\n",
    "num3 = list(map(int,input().split()))\n",
    "num4 = []\n",
    "for i in num1:\n",
    "    if i in num2 and i in num3:\n",
    "        num4.append(i)\n",
    "print(sorted(num4))"
   ]
  },
  {
   "cell_type": "code",
   "execution_count": 11,
   "id": "9b017666",
   "metadata": {},
   "outputs": [
    {
     "data": {
      "text/plain": [
       "'**Question 2**\\n\\nGiven two **0-indexed** integer arrays nums1 and nums2, return *a list* answer *of size* 2 *where:*\\n\\n- answer[0] *is a list of all **distinct** integers in* nums1 *which are **not** present in* nums2*.*\\n- answer[1] *is a list of all **distinct** integers in* nums2 *which are **not** present in* nums1.\\n\\n**Note** that the integers in the lists may be returned in **any** order.\\n\\n**Example 1:**\\n\\n**Input:** nums1 = [1,2,3], nums2 = [2,4,6]\\n\\n**Output:** [[1,3],[4,6]]\\n\\n**Explanation:**\\n\\nFor nums1, nums1[1] = 2 is present at index 0 of nums2, whereas nums1[0] = 1 and nums1[2] = 3 are not present in nums2. Therefore, answer[0] = [1,3].\\n\\nFor nums2, nums2[0] = 2 is present at index 1 of nums1, whereas nums2[1] = 4 and nums2[2] = 6 are not present in nums2. Therefore, answer[1] = [4,6].'"
      ]
     },
     "execution_count": 11,
     "metadata": {},
     "output_type": "execute_result"
    }
   ],
   "source": [
    "'''**Question 2**\n",
    "\n",
    "Given two **0-indexed** integer arrays nums1 and nums2, return *a list* answer *of size* 2 *where:*\n",
    "\n",
    "- answer[0] *is a list of all **distinct** integers in* nums1 *which are **not** present in* nums2*.*\n",
    "- answer[1] *is a list of all **distinct** integers in* nums2 *which are **not** present in* nums1.\n",
    "\n",
    "**Note** that the integers in the lists may be returned in **any** order.\n",
    "\n",
    "**Example 1:**\n",
    "\n",
    "**Input:** nums1 = [1,2,3], nums2 = [2,4,6]\n",
    "\n",
    "**Output:** [[1,3],[4,6]]\n",
    "\n",
    "**Explanation:**\n",
    "\n",
    "For nums1, nums1[1] = 2 is present at index 0 of nums2, whereas nums1[0] = 1 and nums1[2] = 3 are not present in nums2. Therefore, answer[0] = [1,3].\n",
    "\n",
    "For nums2, nums2[0] = 2 is present at index 1 of nums1, whereas nums2[1] = 4 and nums2[2] = 6 are not present in nums2. Therefore, answer[1] = [4,6].'''"
   ]
  },
  {
   "cell_type": "code",
   "execution_count": 24,
   "id": "960f70a9",
   "metadata": {},
   "outputs": [
    {
     "name": "stdout",
     "output_type": "stream",
     "text": [
      "1 2 3\n",
      "2 4 5\n",
      "[[1, 3], [4, 5]]\n"
     ]
    }
   ],
   "source": [
    "num1 = set(map(int,input().split()))\n",
    "num2 = set(map(int,input().split()))\n",
    "print([list(num1 - num2),list(num2 - num1)])"
   ]
  },
  {
   "cell_type": "code",
   "execution_count": 27,
   "id": "cb5d949c",
   "metadata": {},
   "outputs": [
    {
     "data": {
      "text/plain": [
       "\"**Question 3**\\nGiven a 2D integer array matrix, return *the **transpose** of* matrix.\\n\\nThe **transpose** of a matrix is the matrix flipped over its main diagonal, switching the matrix's row and column indices.\\n\\n**Example 1:**\\n\\nInput: matrix = [[1,2,3],[4,5,6],[7,8,9]]\\n\\nOutput: [[1,4,7],[2,5,8],[3,6,9]]\""
      ]
     },
     "execution_count": 27,
     "metadata": {},
     "output_type": "execute_result"
    }
   ],
   "source": [
    "'''**Question 3**\n",
    "Given a 2D integer array matrix, return *the **transpose** of* matrix.\n",
    "\n",
    "The **transpose** of a matrix is the matrix flipped over its main diagonal, switching the matrix's row and column indices.\n",
    "\n",
    "**Example 1:**\n",
    "\n",
    "Input: matrix = [[1,2,3],[4,5,6],[7,8,9]]\n",
    "\n",
    "Output: [[1,4,7],[2,5,8],[3,6,9]]'''"
   ]
  },
  {
   "cell_type": "code",
   "execution_count": 33,
   "id": "3c0ebbc3",
   "metadata": {},
   "outputs": [
    {
     "name": "stdout",
     "output_type": "stream",
     "text": [
      "[[1,2,3],[4,5,6],[7,8,9]]\n",
      "[[1, 4, 7], [2, 5, 8], [3, 6, 9]]\n"
     ]
    }
   ],
   "source": [
    "matrix = eval(input())\n",
    "nums = []\n",
    "for i in zip(*matrix):\n",
    "    nums.append(list(i))\n",
    "print(nums)"
   ]
  },
  {
   "cell_type": "code",
   "execution_count": 34,
   "id": "debb9976",
   "metadata": {},
   "outputs": [
    {
     "data": {
      "text/plain": [
       "'**Question 4**\\nGiven an integer array nums of 2n integers, group these integers into n pairs (a1, b1), (a2, b2), ..., (an, bn) such that the sum of min(ai, bi) for all i is **maximized**. Return *the maximized sum*.\\n\\n**Example 1:**\\n\\nInput: nums = [1,4,3,2]\\n\\nOutput: 4\\n\\n**Explanation:** All possible pairings (ignoring the ordering of elements) are:\\n\\n1. (1, 4), (2, 3) -> min(1, 4) + min(2, 3) = 1 + 2 = 3\\n\\n2. (1, 3), (2, 4) -> min(1, 3) + min(2, 4) = 1 + 2 = 3\\n\\n3. (1, 2), (3, 4) -> min(1, 2) + min(3, 4) = 1 + 3 = 4\\n\\nSo the maximum possible sum is 4.'"
      ]
     },
     "execution_count": 34,
     "metadata": {},
     "output_type": "execute_result"
    }
   ],
   "source": [
    "'''**Question 4**\n",
    "Given an integer array nums of 2n integers, group these integers into n pairs (a1, b1), (a2, b2), ..., (an, bn) such that the sum of min(ai, bi) for all i is **maximized**. Return *the maximized sum*.\n",
    "\n",
    "**Example 1:**\n",
    "\n",
    "Input: nums = [1,4,3,2]\n",
    "\n",
    "Output: 4\n",
    "\n",
    "**Explanation:** All possible pairings (ignoring the ordering of elements) are:\n",
    "\n",
    "1. (1, 4), (2, 3) -> min(1, 4) + min(2, 3) = 1 + 2 = 3\n",
    "\n",
    "2. (1, 3), (2, 4) -> min(1, 3) + min(2, 4) = 1 + 2 = 3\n",
    "\n",
    "3. (1, 2), (3, 4) -> min(1, 2) + min(3, 4) = 1 + 3 = 4\n",
    "\n",
    "So the maximum possible sum is 4.'''"
   ]
  },
  {
   "cell_type": "code",
   "execution_count": 37,
   "id": "264ec5fb",
   "metadata": {},
   "outputs": [
    {
     "name": "stdout",
     "output_type": "stream",
     "text": [
      "[1,2,3,4]\n",
      "4\n"
     ]
    }
   ],
   "source": [
    "nums = eval(input())\n",
    "nums.sort()\n",
    "result = 0\n",
    "numsLen = len(nums)\n",
    "for i in range(0, numsLen - 1, 2):\n",
    "    result += nums[i]\n",
    "print(result)"
   ]
  },
  {
   "cell_type": "code",
   "execution_count": 40,
   "id": "aa359441",
   "metadata": {},
   "outputs": [
    {
     "data": {
      "text/plain": [
       "'**Question 5**\\nYou have n coins and you want to build a staircase with these coins. The staircase consists of k rows where the ith row has exactly i coins. The last row of the staircase **may be** incomplete.\\n\\nGiven the integer n, return *the number of **complete rows** of the staircase you will build*.'"
      ]
     },
     "execution_count": 40,
     "metadata": {},
     "output_type": "execute_result"
    }
   ],
   "source": [
    "'''**Question 5**\n",
    "You have n coins and you want to build a staircase with these coins. The staircase consists of k rows where the ith row has exactly i coins. The last row of the staircase **may be** incomplete.\n",
    "\n",
    "Given the integer n, return *the number of **complete rows** of the staircase you will build*.'''"
   ]
  },
  {
   "cell_type": "code",
   "execution_count": 53,
   "id": "f0bfdb5a",
   "metadata": {},
   "outputs": [
    {
     "name": "stdout",
     "output_type": "stream",
     "text": [
      "5\n"
     ]
    },
    {
     "data": {
      "text/plain": [
       "2"
      ]
     },
     "execution_count": 53,
     "metadata": {},
     "output_type": "execute_result"
    }
   ],
   "source": [
    "import math\n",
    "n = int(input())\n",
    "int(math.sqrt(2 * n + 0.25) - 0.50)"
   ]
  },
  {
   "cell_type": "code",
   "execution_count": 54,
   "id": "e26a1ed7",
   "metadata": {},
   "outputs": [
    {
     "data": {
      "text/plain": [
       "'<aside>\\n💡 **Question 6**\\nGiven an integer array nums sorted in **non-decreasing** order, return *an array of **the squares of each number** sorted in non-decreasing order*.\\n\\n**Example 1:**\\n\\nInput: nums = [-4,-1,0,3,10]\\n\\nOutput: [0,1,9,16,100]\\n\\n**Explanation:** After squaring, the array becomes [16,1,0,9,100].\\nAfter sorting, it becomes [0,1,9,16,100]\\n\\n</aside>'"
      ]
     },
     "execution_count": 54,
     "metadata": {},
     "output_type": "execute_result"
    }
   ],
   "source": [
    "'''**Question 6**\n",
    "Given an integer array nums sorted in **non-decreasing** order, return *an array of **the squares of each number** sorted in non-decreasing order*.\n",
    "\n",
    "**Example 1:**\n",
    "\n",
    "Input: nums = [-4,-1,0,3,10]\n",
    "\n",
    "Output: [0,1,9,16,100]\n",
    "\n",
    "**Explanation:** After squaring, the array becomes [16,1,0,9,100].\n",
    "After sorting, it becomes [0,1,9,16,100]'''"
   ]
  },
  {
   "cell_type": "code",
   "execution_count": 60,
   "id": "ed385054",
   "metadata": {},
   "outputs": [
    {
     "name": "stdout",
     "output_type": "stream",
     "text": [
      "[-4,-1,0,3,10]\n",
      "[0, 1, 9, 16, 100]\n"
     ]
    }
   ],
   "source": [
    "num = eval(input())\n",
    "print(sorted([i*i for i in num]))"
   ]
  },
  {
   "cell_type": "code",
   "execution_count": 70,
   "id": "a4014c84",
   "metadata": {},
   "outputs": [
    {
     "data": {
      "text/plain": [
       "\"**Question 7**\\nYou are given an m x n matrix M initialized with all 0's and an array of operations ops, where ops[i] = [ai, bi] means M[x][y] should be incremented by one for all 0 <= x < ai and 0 <= y < bi.\\n\\nCount and return *the number of maximum integers in the matrix after performing all the operations*\\n\\n**Example 1:**\\n\\n![q4.jpg](https://s3-us-west-2.amazonaws.com/secure.notion-static.com/4d0890d0-7bc7-4f59-be8e-352d9f3c1c52/q4.jpg)\\n\\n**Input:** m = 3, n = 3, ops = [[2,2],[3,3]]\\n\\n**Output:** 4\\n\\n**Explanation:** The maximum integer in M is 2, and there are four of it in M. So return 4.\""
      ]
     },
     "execution_count": 70,
     "metadata": {},
     "output_type": "execute_result"
    }
   ],
   "source": [
    "'''**Question 7**\n",
    "You are given an m x n matrix M initialized with all 0's and an array of operations ops, where ops[i] = [ai, bi] means M[x][y] should be incremented by one for all 0 <= x < ai and 0 <= y < bi.\n",
    "\n",
    "Count and return *the number of maximum integers in the matrix after performing all the operations*\n",
    "\n",
    "**Example 1:**\n",
    "\n",
    "![q4.jpg](https://s3-us-west-2.amazonaws.com/secure.notion-static.com/4d0890d0-7bc7-4f59-be8e-352d9f3c1c52/q4.jpg)\n",
    "\n",
    "**Input:** m = 3, n = 3, ops = [[2,2],[3,3]]\n",
    "\n",
    "**Output:** 4\n",
    "\n",
    "**Explanation:** The maximum integer in M is 2, and there are four of it in M. So return 4.'''"
   ]
  },
  {
   "cell_type": "code",
   "execution_count": 67,
   "id": "418f9a7d",
   "metadata": {},
   "outputs": [
    {
     "name": "stdout",
     "output_type": "stream",
     "text": [
      "[[2,2],[3,3]]\n",
      "3\n",
      "3\n",
      "4\n"
     ]
    }
   ],
   "source": [
    "mat = eval(input())\n",
    "m  = int(input())\n",
    "n = int(input())\n",
    "for r,c in mat:\n",
    "    m = min(m,r)\n",
    "    n = min(c,n)\n",
    "print(m*n)"
   ]
  },
  {
   "cell_type": "code",
   "execution_count": 71,
   "id": "42e6ab9a",
   "metadata": {},
   "outputs": [
    {
     "data": {
      "text/plain": [
       "'**Question 8**\\n\\nGiven the array nums consisting of 2n elements in the form [x1,x2,...,xn,y1,y2,...,yn].\\n\\n*Return the array in the form* [x1,y1,x2,y2,...,xn,yn].\\n\\n**Example 1:**\\n\\n**Input:** nums = [2,5,1,3,4,7], n = 3\\n\\n**Output:** [2,3,5,4,1,7]\\n\\n**Explanation:** Since x1=2, x2=5, x3=1, y1=3, y2=4, y3=7 then the answer is [2,3,5,4,1,7].'"
      ]
     },
     "execution_count": 71,
     "metadata": {},
     "output_type": "execute_result"
    }
   ],
   "source": [
    "'''**Question 8**\n",
    "\n",
    "Given the array nums consisting of 2n elements in the form [x1,x2,...,xn,y1,y2,...,yn].\n",
    "\n",
    "*Return the array in the form* [x1,y1,x2,y2,...,xn,yn].\n",
    "\n",
    "**Example 1:**\n",
    "\n",
    "**Input:** nums = [2,5,1,3,4,7], n = 3\n",
    "\n",
    "**Output:** [2,3,5,4,1,7]\n",
    "\n",
    "**Explanation:** Since x1=2, x2=5, x3=1, y1=3, y2=4, y3=7 then the answer is [2,3,5,4,1,7].'''"
   ]
  },
  {
   "cell_type": "code",
   "execution_count": 93,
   "id": "6d00b729",
   "metadata": {},
   "outputs": [
    {
     "name": "stdout",
     "output_type": "stream",
     "text": [
      "[2,5,1,3,4,7]\n",
      "3\n",
      "[2, 3, 5, 4, 1, 7]\n"
     ]
    }
   ],
   "source": [
    "nums = eval(input())\n",
    "n = int(input())\n",
    "f=nums[:n]\n",
    "s=nums[n:]\n",
    "ans=[]\n",
    "for i in range(len(f)):\n",
    "    ans.append(f[i])\n",
    "    ans.append(s[i])\n",
    "print(ans)"
   ]
  }
 ],
 "metadata": {
  "kernelspec": {
   "display_name": "Python 3 (ipykernel)",
   "language": "python",
   "name": "python3"
  },
  "language_info": {
   "codemirror_mode": {
    "name": "ipython",
    "version": 3
   },
   "file_extension": ".py",
   "mimetype": "text/x-python",
   "name": "python",
   "nbconvert_exporter": "python",
   "pygments_lexer": "ipython3",
   "version": "3.9.13"
  }
 },
 "nbformat": 4,
 "nbformat_minor": 5
}
