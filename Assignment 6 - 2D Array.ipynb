{
 "cells": [
  {
   "cell_type": "code",
   "execution_count": 1,
   "id": "806d20c0",
   "metadata": {},
   "outputs": [
    {
     "data": {
      "text/plain": [
       "'**Question 1**\\n\\nA permutation perm of n + 1 integers of all the integers in the range [0, n] can be represented as a string s of length n where:\\n\\n- s[i] == \\'I\\' if perm[i] < perm[i + 1], and\\n- s[i] == \\'D\\' if perm[i] > perm[i + 1].\\n\\nGiven a string s, reconstruct the permutation perm and return it. If there are multiple valid permutations perm, return **any of them**.\\n\\n**Example 1:**\\n\\n**Input:** s = \"IDID\"\\n\\n**Output:**\\n\\n[0,4,1,3,2]'"
      ]
     },
     "execution_count": 1,
     "metadata": {},
     "output_type": "execute_result"
    }
   ],
   "source": [
    "'''**Question 1**\n",
    "\n",
    "A permutation perm of n + 1 integers of all the integers in the range [0, n] can be represented as a string s of length n where:\n",
    "\n",
    "- s[i] == 'I' if perm[i] < perm[i + 1], and\n",
    "- s[i] == 'D' if perm[i] > perm[i + 1].\n",
    "\n",
    "Given a string s, reconstruct the permutation perm and return it. If there are multiple valid permutations perm, return **any of them**.\n",
    "\n",
    "**Example 1:**\n",
    "\n",
    "**Input:** s = \"IDID\"\n",
    "\n",
    "**Output:**\n",
    "\n",
    "[0,4,1,3,2]'''"
   ]
  },
  {
   "cell_type": "code",
   "execution_count": 2,
   "id": "3d225a15",
   "metadata": {},
   "outputs": [
    {
     "name": "stdout",
     "output_type": "stream",
     "text": [
      "IDID\n",
      "[2, 3, 1, 4, 0]\n"
     ]
    }
   ],
   "source": [
    "s = input()\n",
    "left = right = 0\n",
    "res = [0]\n",
    "for i in s:\n",
    "    if i == \"I\":\n",
    "        right += 1\n",
    "        res.append(right)\n",
    "    else:\n",
    "        left -= 1\n",
    "        res.append(left)\n",
    "print([i - left for i in res])"
   ]
  },
  {
   "cell_type": "code",
   "execution_count": 3,
   "id": "3400b208",
   "metadata": {},
   "outputs": [
    {
     "data": {
      "text/plain": [
       "'**Question 2**\\n\\nYou are given an m x n integer matrix matrix with the following two properties:\\n\\n- Each row is sorted in non-decreasing order.\\n- The first integer of each row is greater than the last integer of the previous row.\\n\\nGiven an integer target, return true *if* target *is in* matrix *or* false *otherwise*.\\n\\nYou must write a solution in O(log(m * n)) time complexity.\\n\\n**Example 1:**\\n**Input:** matrix = [[1,3,5,7],[10,11,16,20],[23,30,34,60]], target = 3\\n\\n**Output:** true'"
      ]
     },
     "execution_count": 3,
     "metadata": {},
     "output_type": "execute_result"
    }
   ],
   "source": [
    "'''**Question 2**\n",
    "\n",
    "You are given an m x n integer matrix matrix with the following two properties:\n",
    "\n",
    "- Each row is sorted in non-decreasing order.\n",
    "- The first integer of each row is greater than the last integer of the previous row.\n",
    "\n",
    "Given an integer target, return true *if* target *is in* matrix *or* false *otherwise*.\n",
    "\n",
    "You must write a solution in O(log(m * n)) time complexity.\n",
    "\n",
    "**Example 1:**\n",
    "**Input:** matrix = [[1,3,5,7],[10,11,16,20],[23,30,34,60]], target = 3\n",
    "\n",
    "**Output:** true'''"
   ]
  },
  {
   "cell_type": "code",
   "execution_count": 7,
   "id": "cafe5f35",
   "metadata": {},
   "outputs": [
    {
     "name": "stdout",
     "output_type": "stream",
     "text": [
      "[[1,3,5,7],[10,11,16,20],[23,30,34,60]]\n",
      "3\n"
     ]
    },
    {
     "data": {
      "text/plain": [
       "True"
      ]
     },
     "execution_count": 7,
     "metadata": {},
     "output_type": "execute_result"
    }
   ],
   "source": [
    "matrix = eval(input())\n",
    "target = int(input())\n",
    "def grater(matrix,target):\n",
    "    for i in range(len(matrix)):\n",
    "        low=0\n",
    "        high=len(matrix[i])-1\n",
    "        while low<=high:\n",
    "            mid=low+(high-low)//2\n",
    "            if matrix[i][mid]==target:\n",
    "                return True\n",
    "            elif matrix[i][mid]<target:\n",
    "                low=mid+1\n",
    "            else:\n",
    "                high=mid-1\n",
    "    return False\n",
    "grater(matrix,target)"
   ]
  },
  {
   "cell_type": "code",
   "execution_count": 8,
   "id": "31820662",
   "metadata": {},
   "outputs": [
    {
     "data": {
      "text/plain": [
       "'**Question 3**\\n\\nGiven an array of integers arr, return *true if and only if it is a valid mountain array*.\\n\\nRecall that arr is a mountain array if and only if:\\n\\n- arr.length >= 3\\n- There exists some i with 0 < i < arr.length - 1 such that:\\n    - arr[0] < arr[1] < ... < arr[i - 1] < arr[i]\\n    - arr[i] > arr[i + 1] > ... > arr[arr.length - 1]\\n**Example 1:**\\n\\n**Input:** arr = [2,1]\\n\\n**Output:**\\n\\nfalse'"
      ]
     },
     "execution_count": 8,
     "metadata": {},
     "output_type": "execute_result"
    }
   ],
   "source": [
    "'''**Question 3**\n",
    "\n",
    "Given an array of integers arr, return *true if and only if it is a valid mountain array*.\n",
    "\n",
    "Recall that arr is a mountain array if and only if:\n",
    "\n",
    "- arr.length >= 3\n",
    "- There exists some i with 0 < i < arr.length - 1 such that:\n",
    "    - arr[0] < arr[1] < ... < arr[i - 1] < arr[i]\n",
    "    - arr[i] > arr[i + 1] > ... > arr[arr.length - 1]\n",
    "**Example 1:**\n",
    "\n",
    "**Input:** arr = [2,1]\n",
    "\n",
    "**Output:**\n",
    "\n",
    "false'''"
   ]
  },
  {
   "cell_type": "code",
   "execution_count": 9,
   "id": "35042272",
   "metadata": {},
   "outputs": [
    {
     "name": "stdout",
     "output_type": "stream",
     "text": [
      "[2,1]\n",
      "False\n"
     ]
    }
   ],
   "source": [
    "arr = list(map(int,input()[1:-1].split(',')))\n",
    "i, j, n = 0, len(arr) - 1, len(arr)\n",
    "while i + 1 < n and arr[i] < arr[i + 1]: i += 1\n",
    "while j > 0 and arr[j - 1] > arr[j]: j -= 1\n",
    "print((0 < i) == (j < n - 1))"
   ]
  },
  {
   "cell_type": "code",
   "execution_count": 11,
   "id": "0cc71180",
   "metadata": {},
   "outputs": [
    {
     "data": {
      "text/plain": [
       "'**Question 4**\\n\\nGiven a binary array nums, return *the maximum length of a contiguous subarray with an equal number of* 0 *and* 1.\\n\\n**Example 1:**\\n\\n**Input:** nums = [0,1]\\n\\n**Output:** 2\\n\\n**Explanation:**\\n\\n[0, 1] is the longest contiguous subarray with an equal number of 0 and 1.'"
      ]
     },
     "execution_count": 11,
     "metadata": {},
     "output_type": "execute_result"
    }
   ],
   "source": [
    "'''**Question 4**\n",
    "\n",
    "Given a binary array nums, return *the maximum length of a contiguous subarray with an equal number of* 0 *and* 1.\n",
    "\n",
    "**Example 1:**\n",
    "\n",
    "**Input:** nums = [0,1]\n",
    "\n",
    "**Output:** 2\n",
    "\n",
    "**Explanation:**\n",
    "\n",
    "[0, 1] is the longest contiguous subarray with an equal number of 0 and 1.'''"
   ]
  },
  {
   "cell_type": "code",
   "execution_count": 14,
   "id": "40d968a5",
   "metadata": {},
   "outputs": [
    {
     "name": "stdout",
     "output_type": "stream",
     "text": [
      "[1,2]\n",
      "1\n"
     ]
    }
   ],
   "source": [
    "nums = list(map(int,input()[1:-1].split(',')))\n",
    "count = 0\n",
    "result = 0\n",
    "dict_seen = {0: -1}\n",
    "for i in range(len(nums)):\n",
    "    n = nums[i]\n",
    "    if n == 0:\n",
    "        count -= 1\n",
    "    if n == 1:\n",
    "        count += 1\n",
    "    if count in dict_seen:\n",
    "        result = max(result, i-dict_seen[count])\n",
    "    else:\n",
    "        dict_seen[count] = i\n",
    "print(result)"
   ]
  },
  {
   "cell_type": "code",
   "execution_count": 10,
   "id": "930465a8",
   "metadata": {},
   "outputs": [
    {
     "data": {
      "text/plain": [
       "'**Question 5**\\n\\nThe **product sum** of two equal-length arrays a and b is equal to the sum of a[i] * b[i] for all 0 <= i < a.length (**0-indexed**).\\n\\n- For example, if a = [1,2,3,4] and b = [5,2,3,1], the **product sum** would be 1*5 + 2*2 + 3*3 + 4*1 = 22.\\n\\nGiven two arrays nums1 and nums2 of length n, return *the **minimum product sum** if you are allowed to **rearrange** the **order** of the elements in* nums1.\\n\\n**Example 1:**\\n\\n**Input:** nums1 = [5,3,4,2], nums2 = [4,2,2,5]\\n\\n**Output:40\\n**Explanation:**\\n\\nWe can rearrange nums1 to become [3,5,4,2]. The product sum of [3,5,4,2] and [4,2,2,5] is 3*4 + 5*2 + 4*2 + 2*5 = 40.'"
      ]
     },
     "execution_count": 10,
     "metadata": {},
     "output_type": "execute_result"
    }
   ],
   "source": [
    "'''**Question 5**\n",
    "\n",
    "The **product sum** of two equal-length arrays a and b is equal to the sum of a[i] * b[i] for all 0 <= i < a.length (**0-indexed**).\n",
    "\n",
    "- For example, if a = [1,2,3,4] and b = [5,2,3,1], the **product sum** would be 1*5 + 2*2 + 3*3 + 4*1 = 22.\n",
    "\n",
    "Given two arrays nums1 and nums2 of length n, return *the **minimum product sum** if you are allowed to **rearrange** the **order** of the elements in* nums1.\n",
    "\n",
    "**Example 1:**\n",
    "\n",
    "**Input:** nums1 = [5,3,4,2], nums2 = [4,2,2,5]\n",
    "\n",
    "**Output:40\n",
    "**Explanation:**\n",
    "\n",
    "We can rearrange nums1 to become [3,5,4,2]. The product sum of [3,5,4,2] and [4,2,2,5] is 3*4 + 5*2 + 4*2 + 2*5 = 40.'''"
   ]
  },
  {
   "cell_type": "code",
   "execution_count": 15,
   "id": "0ae2adae",
   "metadata": {},
   "outputs": [
    {
     "name": "stdout",
     "output_type": "stream",
     "text": [
      "[5,3,4,2]\n",
      "[4,2,2,5]\n",
      "44\n"
     ]
    }
   ],
   "source": [
    "nums1 = list(map(int,input()[1:-1].split(',')))\n",
    "nums2 = list(map(int,input()[1:-1].split(',')))\n",
    "a = 0\n",
    "for i in range(len(nums1)):\n",
    "    a += nums1[i] * nums2[i]\n",
    "print(a)"
   ]
  },
  {
   "cell_type": "code",
   "execution_count": 16,
   "id": "a170ab66",
   "metadata": {},
   "outputs": [
    {
     "data": {
      "text/plain": [
       "'**Question 6**\\n\\nAn integer array original is transformed into a **doubled** array changed by appending **twice the value** of every element in original, and then randomly **shuffling** the resulting array.\\n\\nGiven an array changed, return original *if* changed *is a **doubled** array. If* changed *is not a **doubled** array, return an empty array. The elements in* original *may be returned in **any** order*.\\n\\n**Example 1:**\\n\\n**Input:** changed = [1,3,4,2,6,8]\\n\\n**Output:** [1,3,4]\\n\\n**Explanation:** One possible original array could be [1,3,4]:\\n\\n- Twice the value of 1 is 1 * 2 = 2.\\n- Twice the value of 3 is 3 * 2 = 6.\\n- Twice the value of 4 is 4 * 2 = 8.\\n\\nOther original arrays could be [4,3,1] or [3,1,4].'"
      ]
     },
     "execution_count": 16,
     "metadata": {},
     "output_type": "execute_result"
    }
   ],
   "source": [
    "'''**Question 6**\n",
    "\n",
    "An integer array original is transformed into a **doubled** array changed by appending **twice the value** of every element in original, and then randomly **shuffling** the resulting array.\n",
    "\n",
    "Given an array changed, return original *if* changed *is a **doubled** array. If* changed *is not a **doubled** array, return an empty array. The elements in* original *may be returned in **any** order*.\n",
    "\n",
    "**Example 1:**\n",
    "\n",
    "**Input:** changed = [1,3,4,2,6,8]\n",
    "\n",
    "**Output:** [1,3,4]\n",
    "\n",
    "**Explanation:** One possible original array could be [1,3,4]:\n",
    "\n",
    "- Twice the value of 1 is 1 * 2 = 2.\n",
    "- Twice the value of 3 is 3 * 2 = 6.\n",
    "- Twice the value of 4 is 4 * 2 = 8.\n",
    "\n",
    "Other original arrays could be [4,3,1] or [3,1,4].'''"
   ]
  },
  {
   "cell_type": "code",
   "execution_count": 17,
   "id": "fd4711f7",
   "metadata": {},
   "outputs": [
    {
     "name": "stdout",
     "output_type": "stream",
     "text": [
      "[1,3,4,2,6,8]\n",
      "[1, 3, 4]\n"
     ]
    }
   ],
   "source": [
    "changed =  input()\n",
    "changed = [] if len(changed) <= 2 else list(map(int,changed[1:-1].split(',')))\n",
    "def double(changed):\n",
    "    if len(changed) < 1:\n",
    "        return []\n",
    "    else:\n",
    "        b = len(changed)//2\n",
    "        s = []\n",
    "        for i in range(b):\n",
    "            if 2*changed[i] == changed[b+i]:\n",
    "                s.append(changed[i])\n",
    "            else:\n",
    "                return[]\n",
    "    return s\n",
    "print(double(changed))"
   ]
  },
  {
   "cell_type": "code",
   "execution_count": 18,
   "id": "0f559e5f",
   "metadata": {},
   "outputs": [
    {
     "data": {
      "text/plain": [
       "'**Question 7**\\n\\nGiven a positive integer n, generate an n x n matrix filled with elements from 1 to n2 in spiral order.\\n\\n**Example 1:**\\n\\n    \\n**Input:** n = 3\\n\\n**Output:** [[1,2,3],[8,9,4],[7,6,5]]'"
      ]
     },
     "execution_count": 18,
     "metadata": {},
     "output_type": "execute_result"
    }
   ],
   "source": [
    "'''**Question 7**\n",
    "\n",
    "Given a positive integer n, generate an n x n matrix filled with elements from 1 to n2 in spiral order.\n",
    "\n",
    "**Example 1:**\n",
    "\n",
    "    \n",
    "**Input:** n = 3\n",
    "\n",
    "**Output:** [[1,2,3],[8,9,4],[7,6,5]]'''"
   ]
  },
  {
   "cell_type": "code",
   "execution_count": 21,
   "id": "34594b03",
   "metadata": {},
   "outputs": [
    {
     "name": "stdout",
     "output_type": "stream",
     "text": [
      "3\n"
     ]
    },
    {
     "data": {
      "text/plain": [
       "[[1, 2, 3], [8, 9, 4], [7, 6, 5]]"
      ]
     },
     "execution_count": 21,
     "metadata": {},
     "output_type": "execute_result"
    }
   ],
   "source": [
    "n = int(input())\n",
    "def generateMatrix(n):\n",
    "        if not n:\n",
    "            return []\n",
    "        matrix = [[0 for _ in range(n)] for _ in range(n)]\n",
    "        left, right, top, bottom, num = 0, n-1, 0, n-1, 1\n",
    "        while left <= right and top <= bottom:\n",
    "            for i in range(left, right+1):\n",
    "                matrix[top][i] = num \n",
    "                num += 1\n",
    "            top += 1\n",
    "            for i in range(top, bottom+1):\n",
    "                matrix[i][right] = num\n",
    "                num += 1\n",
    "            right -= 1\n",
    "            if top <= bottom:\n",
    "                for i in range(right, left-1, -1):\n",
    "                    matrix[bottom][i] = num\n",
    "                    num += 1\n",
    "                bottom -= 1\n",
    "            if left <= right:\n",
    "                for i in range(bottom, top-1, -1):\n",
    "                    matrix[i][left] = num\n",
    "                    num += 1\n",
    "                left += 1\n",
    "        return matrix\n",
    "generateMatrix(n)"
   ]
  },
  {
   "cell_type": "code",
   "execution_count": null,
   "id": "aa3c66a7",
   "metadata": {},
   "outputs": [],
   "source": []
  }
 ],
 "metadata": {
  "kernelspec": {
   "display_name": "Python 3 (ipykernel)",
   "language": "python",
   "name": "python3"
  },
  "language_info": {
   "codemirror_mode": {
    "name": "ipython",
    "version": 3
   },
   "file_extension": ".py",
   "mimetype": "text/x-python",
   "name": "python",
   "nbconvert_exporter": "python",
   "pygments_lexer": "ipython3",
   "version": "3.9.13"
  }
 },
 "nbformat": 4,
 "nbformat_minor": 5
}
