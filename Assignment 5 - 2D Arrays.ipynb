{
 "cells": [
  {
   "cell_type": "code",
   "execution_count": null,
   "id": "ac3af891",
   "metadata": {},
   "outputs": [],
   "source": [
    "'''**Question 1**\n",
    "\n",
    "Convert 1D Array Into 2D Array\n",
    "\n",
    "You are given a **0-indexed** 1-dimensional (1D) integer array original, and two integers, m and n. You are tasked with creating a 2-dimensional (2D) array with  m rows and n columns using **all** the elements from original.\n",
    "\n",
    "The elements from indices 0 to n - 1 (**inclusive**) of original should form the first row of the constructed 2D array, the elements from indices n to 2 * n - 1 (**inclusive**) should form the second row of the constructed 2D array, and so on.\n",
    "\n",
    "Return *an* m x n *2D array constructed according to the above procedure, or an empty 2D array if it is impossible*.\n",
    "\n",
    "**Example 1:**\n",
    "**Input:** original = [1,2,3,4], m = 2, n = 2\n",
    "\n",
    "**Output:** [[1,2],[3,4]]\n",
    "\n",
    "**Explanation:** The constructed 2D array should contain 2 rows and 2 columns.\n",
    "\n",
    "The first group of n=2 elements in original, [1,2], becomes the first row in the constructed 2D array.\n",
    "\n",
    "The second group of n=2 elements in original, [3,4], becomes the second row in the constructed 2D array.>'''"
   ]
  },
  {
   "cell_type": "code",
   "execution_count": 2,
   "id": "9ce4cba4",
   "metadata": {},
   "outputs": [
    {
     "name": "stdout",
     "output_type": "stream",
     "text": [
      "[1,2,3,4]\n",
      "2\n",
      "2\n",
      "[[1, 2], [3, 4]]\n"
     ]
    }
   ],
   "source": [
    "original = list(map(int,input()[1:-1].split(',')))\n",
    "n = int(input())\n",
    "m = int(input())\n",
    "if(len(original)!= (m*n)):\n",
    "    print([])\n",
    "else:\n",
    "    matrix = [[0]*n for i in range(m)]\n",
    "    index=0\n",
    "    for rows in range(m):\n",
    "        for cols in range(n):\n",
    "            matrix[rows][cols]= original[index]\n",
    "            index+=1\n",
    "    print(matrix)"
   ]
  },
  {
   "cell_type": "code",
   "execution_count": null,
   "id": "3504bcd7",
   "metadata": {},
   "outputs": [],
   "source": [
    "'''**Question 2**\n",
    "\n",
    "You have n coins and you want to build a staircase with these coins. The staircase consists of k rows where the ith row has exactly i coins. The last row of the staircase **may be** incomplete.\n",
    "\n",
    "Given the integer n, return *the number of **complete rows** of the staircase you will build*.\n",
    "\n",
    "**Example 1:**\n",
    "\n",
    "**Input:** n = 5\n",
    "\n",
    "**Output:** 2\n",
    "\n",
    "**Explanation:** Because the 3rd row is incomplete, we return 2.'''"
   ]
  },
  {
   "cell_type": "code",
   "execution_count": 17,
   "id": "fb6a29bf",
   "metadata": {},
   "outputs": [
    {
     "name": "stdout",
     "output_type": "stream",
     "text": [
      "5\n"
     ]
    },
    {
     "data": {
      "text/plain": [
       "2"
      ]
     },
     "execution_count": 17,
     "metadata": {},
     "output_type": "execute_result"
    }
   ],
   "source": [
    "import math\n",
    "n = int(input())\n",
    "int(math.sqrt(2 * n + 0.25) - 0.50)"
   ]
  },
  {
   "cell_type": "code",
   "execution_count": null,
   "id": "efa0dc59",
   "metadata": {},
   "outputs": [],
   "source": [
    "'''**Question 3**\n",
    "\n",
    "Given an integer array nums sorted in **non-decreasing** order, return *an array of **the squares of each number** sorted in non-decreasing order*.\n",
    "\n",
    "**Example 1:**\n",
    "\n",
    "**Input:** nums = [-4,-1,0,3,10]\n",
    "\n",
    "**Output:** [0,1,9,16,100]\n",
    "\n",
    "**Explanation:** After squaring, the array becomes [16,1,0,9,100].\n",
    "\n",
    "After sorting, it becomes [0,1,9,16,100].'''"
   ]
  },
  {
   "cell_type": "code",
   "execution_count": 18,
   "id": "c2d5dbdc",
   "metadata": {},
   "outputs": [
    {
     "name": "stdout",
     "output_type": "stream",
     "text": [
      "[-4,-1,0,3,10]\n",
      "[0, 1, 9, 16, 100]\n"
     ]
    }
   ],
   "source": [
    "num = eval(input())\n",
    "print(sorted([i*i for i in num]))"
   ]
  },
  {
   "cell_type": "code",
   "execution_count": null,
   "id": "04ce6909",
   "metadata": {},
   "outputs": [],
   "source": [
    "'''**Question 4**\n",
    "\n",
    "Given two **0-indexed** integer arrays nums1 and nums2, return *a list* answer *of size* 2 *where:*\n",
    "\n",
    "- answer[0] *is a list of all **distinct** integers in* nums1 *which are **not** present in* nums2*.*\n",
    "- answer[1] *is a list of all **distinct** integers in* nums2 *which are **not** present in* nums1.\n",
    "\n",
    "**Note** that the integers in the lists may be returned in **any** order.\n",
    "\n",
    "**Example 1:**\n",
    "\n",
    "**Input:** nums1 = [1,2,3], nums2 = [2,4,6]\n",
    "\n",
    "**Output:** [[1,3],[4,6]]\n",
    "\n",
    "**Explanation:**\n",
    "\n",
    "For nums1, nums1[1] = 2 is present at index 0 of nums2, whereas nums1[0] = 1 and nums1[2] = 3 are not present in nums2. Therefore, answer[0] = [1,3].\n",
    "\n",
    "For nums2, nums2[0] = 2 is present at index 1 of nums1, whereas nums2[1] = 4 and nums2[2] = 6 are not present in nums2. Therefore, answer[1] = [4,6].'''"
   ]
  },
  {
   "cell_type": "code",
   "execution_count": 22,
   "id": "b5a36e29",
   "metadata": {},
   "outputs": [
    {
     "name": "stdout",
     "output_type": "stream",
     "text": [
      "[1,2,3]\n",
      "[2,4,6]\n",
      "[[1, 3], [4, 6]]\n"
     ]
    }
   ],
   "source": [
    "num1 = set(list(map(int,input()[1:-1].split(','))))\n",
    "num2 = set(list(map(int,input()[1:-1].split(','))))\n",
    "print([list(num1 - num2),list(num2 - num1)])"
   ]
  },
  {
   "cell_type": "code",
   "execution_count": null,
   "id": "c87571e0",
   "metadata": {},
   "outputs": [],
   "source": [
    "'''**Question 5**\n",
    "\n",
    "Given two integer arrays arr1 and arr2, and the integer d, *return the distance value between the two arrays*.\n",
    "\n",
    "The distance value is defined as the number of elements arr1[i] such that there is not any element arr2[j] where |arr1[i]-arr2[j]| <= d.\n",
    "\n",
    "**Example 1:**\n",
    "\n",
    "**Input:** arr1 = [4,5,8], arr2 = [10,9,1,8], d = 2\n",
    "\n",
    "**Output:** 2\n",
    "\n",
    "**Explanation:**\n",
    "\n",
    "For arr1[0]=4 we have:\n",
    "\n",
    "|4-10|=6 > d=2\n",
    "\n",
    "|4-9|=5 > d=2\n",
    "\n",
    "|4-1|=3 > d=2\n",
    "\n",
    "|4-8|=4 > d=2\n",
    "\n",
    "For arr1[1]=5 we have:\n",
    "\n",
    "|5-10|=5 > d=2\n",
    "\n",
    "|5-9|=4 > d=2\n",
    "\n",
    "|5-1|=4 > d=2\n",
    "\n",
    "|5-8|=3 > d=2\n",
    "\n",
    "For arr1[2]=8 we have:\n",
    "\n",
    "**|8-10|=2 <= d=2**\n",
    "\n",
    "**|8-9|=1 <= d=2**\n",
    "\n",
    "|8-1|=7 > d=2\n",
    "\n",
    "**|8-8|=0 <= d=2**'''"
   ]
  },
  {
   "cell_type": "code",
   "execution_count": 31,
   "id": "f103a045",
   "metadata": {},
   "outputs": [
    {
     "name": "stdout",
     "output_type": "stream",
     "text": [
      "[4,5,8]\n",
      "[10,9,1,8]\n",
      "2\n",
      "8\n"
     ]
    }
   ],
   "source": [
    "arr1 = list(map(int,input()[1:-1].split(',')))\n",
    "arr2 = list(map(int,input()[1:-1].split(',')))\n",
    "d = int(input())\n",
    "arr1.sort()\n",
    "arr2.sort()\n",
    "i = 0\n",
    "j = 0\n",
    "dist = 0\n",
    "while i < len(arr1) and j < len(arr2):\n",
    "    if arr1[i] >= arr2[j]:\n",
    "        if arr1[i] - arr2[j] > d:\n",
    "            j += 1\n",
    "        else:\n",
    "            i += 1\n",
    "    else:\n",
    "        if arr2[j] - arr1[i] > d:\n",
    "            i += 1\n",
    "            dist += 1\n",
    "        else:\n",
    "            i += 1\n",
    "    dist += len(arr1) - i\n",
    "print(dist)"
   ]
  },
  {
   "cell_type": "code",
   "execution_count": null,
   "id": "98b6360e",
   "metadata": {},
   "outputs": [],
   "source": [
    "'''**Question 6** Given an integer array nums of length n where all the integers of nums are in the range [1, n] and each integer appears **once** or **twice**, return *an array of all the integers that appears **twice***.\n",
    "\n",
    "You must write an algorithm that runs in O(n) time and uses only constant extra space.\n",
    "\n",
    "**Example 1:**\n",
    "\n",
    "**Input:** nums = [4,3,2,7,8,2,3,1]\n",
    "\n",
    "**Output:**\n",
    "\n",
    "[2,3]'''"
   ]
  },
  {
   "cell_type": "code",
   "execution_count": 35,
   "id": "1d244a39",
   "metadata": {},
   "outputs": [
    {
     "name": "stdout",
     "output_type": "stream",
     "text": [
      "[4,3,2,7,8,2,3,1]\n",
      "[2, 3]\n"
     ]
    }
   ],
   "source": [
    "nums = list(map(int,input()[1:-1].split(',')))\n",
    "s = []\n",
    "for i in nums:\n",
    "    if nums.count(i) == 2:\n",
    "        if i not in s:\n",
    "            s.append(i)\n",
    "s.sort()\n",
    "print(s)"
   ]
  },
  {
   "cell_type": "code",
   "execution_count": null,
   "id": "9e999966",
   "metadata": {},
   "outputs": [],
   "source": [
    "'''**Question 7**\n",
    "\n",
    "Suppose an array of length n sorted in ascending order is **rotated** between 1 and n times. For example, the array nums = [0,1,2,4,5,6,7] might become:\n",
    "\n",
    "- [4,5,6,7,0,1,2] if it was rotated 4 times.\n",
    "- [0,1,2,4,5,6,7] if it was rotated 7 times.\n",
    "\n",
    "Notice that **rotating** an array [a[0], a[1], a[2], ..., a[n-1]] 1 time results in the array [a[n-1], a[0], a[1], a[2], ..., a[n-2]].\n",
    "\n",
    "Given the sorted rotated array nums of **unique** elements, return *the minimum element of this array*.\n",
    "\n",
    "You must write an algorithm that runs in O(log n) time.\n",
    "\n",
    "**Example 1:**\n",
    "\n",
    "**Input:** nums = [3,4,5,1,2]\n",
    "\n",
    "**Output:** 1\n",
    "\n",
    "**Explanation:**\n",
    "\n",
    "The original array was [1,2,3,4,5] rotated 3 times.'''"
   ]
  },
  {
   "cell_type": "code",
   "execution_count": 40,
   "id": "0c9a8578",
   "metadata": {},
   "outputs": [
    {
     "name": "stdout",
     "output_type": "stream",
     "text": [
      "[3,4,5,1,2]\n",
      "1\n"
     ]
    }
   ],
   "source": [
    "nums = list(map(int,input()[1:-1].split(',')))\n",
    "len(nums) - 1\n",
    "left = 0\n",
    "right = len(nums) - 1\n",
    "while left < right:\n",
    "    mid = left + (right - left) // 2\n",
    "    if nums[mid] > nums[right]:\n",
    "        left = mid + 1\n",
    "    else:\n",
    "        right = mid\n",
    "print(nums[left])"
   ]
  },
  {
   "cell_type": "code",
   "execution_count": null,
   "id": "926d5ed3",
   "metadata": {},
   "outputs": [],
   "source": [
    "'''**Question 8**\n",
    "\n",
    "An integer array original is transformed into a **doubled** array changed by appending **twice the value** of every element in original, and then randomly **shuffling** the resulting array.\n",
    "\n",
    "Given an array changed, return original *if* changed *is a **doubled** array. If* changed *is not a **doubled** array, return an empty array. The elements in* original *may be returned in **any** order*.\n",
    "\n",
    "**Example 1:**\n",
    "\n",
    "**Input:** changed = [1,3,4,2,6,8]\n",
    "\n",
    "**Output:** [1,3,4]\n",
    "\n",
    "**Explanation:** One possible original array could be [1,3,4]:\n",
    "\n",
    "- Twice the value of 1 is 1 * 2 = 2.\n",
    "- Twice the value of 3 is 3 * 2 = 6.\n",
    "- Twice the value of 4 is 4 * 2 = 8.\n",
    "\n",
    "Other original arrays could be [4,3,1] or [3,1,4].'''"
   ]
  },
  {
   "cell_type": "code",
   "execution_count": 72,
   "id": "d497215f",
   "metadata": {},
   "outputs": [
    {
     "name": "stdout",
     "output_type": "stream",
     "text": [
      "[1,3,4,2,6,8]\n",
      "[1, 3, 4]\n"
     ]
    }
   ],
   "source": [
    "changed =  input()\n",
    "changed = [] if len(changed) <= 2 else list(map(int,changed[1:-1].split(',')))\n",
    "def double(changed):\n",
    "    if len(changed) < 1:\n",
    "        return []\n",
    "    else:\n",
    "        b = len(changed)//2\n",
    "        s = []\n",
    "        for i in range(b):\n",
    "            if 2*changed[i] == changed[b+i]:\n",
    "                s.append(changed[i])\n",
    "            else:\n",
    "                return[]\n",
    "    return s\n",
    "print(double(changed))"
   ]
  }
 ],
 "metadata": {
  "kernelspec": {
   "display_name": "Python 3 (ipykernel)",
   "language": "python",
   "name": "python3"
  },
  "language_info": {
   "codemirror_mode": {
    "name": "ipython",
    "version": 3
   },
   "file_extension": ".py",
   "mimetype": "text/x-python",
   "name": "python",
   "nbconvert_exporter": "python",
   "pygments_lexer": "ipython3",
   "version": "3.9.13"
  }
 },
 "nbformat": 4,
 "nbformat_minor": 5
}
