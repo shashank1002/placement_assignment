{
 "cells": [
  {
   "cell_type": "code",
   "execution_count": null,
   "id": "6960e7e3",
   "metadata": {},
   "outputs": [],
   "source": [
    "'''**Question 1**\n",
    "\n",
    "Given an integer `n`, return *`true` if it is a power of two. Otherwise, return `false`*.\n",
    "\n",
    "An integer `n` is a power of two, if there exists an integer `x` such that `n == 2x`.\n",
    "\n",
    "**Example 1:**\n",
    "Input: n = 1 \n",
    "\n",
    "Output: true\n",
    "\n",
    "**Example 2:**\n",
    "Input: n = 16 \n",
    "\n",
    "Output: true\n",
    "\n",
    "**Example 3:**\n",
    "Input: n = 3 \n",
    "\n",
    "Output: false'''"
   ]
  },
  {
   "cell_type": "code",
   "execution_count": 1,
   "id": "27b4e6f5",
   "metadata": {},
   "outputs": [
    {
     "name": "stdout",
     "output_type": "stream",
     "text": [
      "2\n"
     ]
    },
    {
     "data": {
      "text/plain": [
       "True"
      ]
     },
     "execution_count": 1,
     "metadata": {},
     "output_type": "execute_result"
    }
   ],
   "source": [
    "n = int(input())\n",
    "def power(n):\n",
    "    if n == 1:\n",
    "        return True\n",
    "    if n < 1:\n",
    "        return False\n",
    "    return power(n//2)\n",
    "power(n)"
   ]
  },
  {
   "cell_type": "code",
   "execution_count": null,
   "id": "5103f2bb",
   "metadata": {},
   "outputs": [],
   "source": [
    "'''**Question 2**\n",
    "\n",
    "Given a number n, find the sum of the first natural numbers.\n",
    "\n",
    "**Example 1:**\n",
    "\n",
    "Input: n = 3 \n",
    "\n",
    "Output: 6\n",
    "\n",
    "**Example 2:**\n",
    "\n",
    "Input  : 5 \n",
    "\n",
    "Output : 15'''"
   ]
  },
  {
   "cell_type": "code",
   "execution_count": 8,
   "id": "6e17316c",
   "metadata": {},
   "outputs": [
    {
     "name": "stdout",
     "output_type": "stream",
     "text": [
      "5\n"
     ]
    },
    {
     "data": {
      "text/plain": [
       "15"
      ]
     },
     "execution_count": 8,
     "metadata": {},
     "output_type": "execute_result"
    }
   ],
   "source": [
    "n = int(input())\n",
    "def number(n):\n",
    "    if n <= 1:\n",
    "        return n\n",
    "    return n + number(n - 1)\n",
    "number(n)"
   ]
  },
  {
   "cell_type": "code",
   "execution_count": null,
   "id": "0c4f86a7",
   "metadata": {},
   "outputs": [],
   "source": [
    "'''**Question 3**\n",
    "\n",
    "****Given a positive integer, N. Find the factorial of N. \n",
    "\n",
    "**Example 1:**\n",
    "\n",
    "Input: N = 5 \n",
    "\n",
    "Output: 120\n",
    "\n",
    "**Example 2:**\n",
    "\n",
    "Input: N = 4\n",
    "\n",
    "Output: 24'''"
   ]
  },
  {
   "cell_type": "code",
   "execution_count": 10,
   "id": "603678b0",
   "metadata": {},
   "outputs": [
    {
     "name": "stdout",
     "output_type": "stream",
     "text": [
      "5\n"
     ]
    },
    {
     "data": {
      "text/plain": [
       "120"
      ]
     },
     "execution_count": 10,
     "metadata": {},
     "output_type": "execute_result"
    }
   ],
   "source": [
    "n = int(input())\n",
    "def factorial(n):\n",
    "    if n == 0:\n",
    "        return 1 \n",
    "    return n * factorial(n-1)\n",
    "factorial(n)"
   ]
  },
  {
   "cell_type": "code",
   "execution_count": null,
   "id": "723cc820",
   "metadata": {},
   "outputs": [],
   "source": [
    "'''**Question 4**\n",
    "\n",
    "Given a number N and a power P, the task is to find the exponent of this number raised to the given power, i.e. N^P.\n",
    "\n",
    "**Example 1 :** \n",
    "\n",
    "Input: N = 5, P = 2\n",
    "\n",
    "Output: 25\n",
    "\n",
    "**Example 2 :**\n",
    "Input: N = 2, P = 5\n",
    "\n",
    "Output: 32'''"
   ]
  },
  {
   "cell_type": "code",
   "execution_count": 13,
   "id": "964a522f",
   "metadata": {},
   "outputs": [
    {
     "name": "stdout",
     "output_type": "stream",
     "text": [
      "x 2\n",
      "n 4\n"
     ]
    },
    {
     "data": {
      "text/plain": [
       "16"
      ]
     },
     "execution_count": 13,
     "metadata": {},
     "output_type": "execute_result"
    }
   ],
   "source": [
    "x = int(input(\"x \"))\n",
    "n = int(input(\"n \"))\n",
    "def power(x, n):\n",
    "    if (n == 0):\n",
    "        return 1\n",
    "    if (x == 0):\n",
    "        return 0\n",
    "    return x * power(x, n - 1)\n",
    "power(x, n)"
   ]
  },
  {
   "cell_type": "code",
   "execution_count": null,
   "id": "8b9ac1dd",
   "metadata": {},
   "outputs": [],
   "source": [
    "'''**Question 5**\n",
    "\n",
    "Given an array of integers **arr**, the task is to find maximum element of that array using recursion.\n",
    "\n",
    "**Example 1:**\n",
    "\n",
    "Input: arr = {1, 4, 3, -5, -4, 8, 6};\n",
    "Output: 8\n",
    "\n",
    "**Example 2:**\n",
    "\n",
    "Input: arr = {1, 4, 45, 6, 10, -8};\n",
    "Output: 45'''"
   ]
  },
  {
   "cell_type": "code",
   "execution_count": 19,
   "id": "382bdf62",
   "metadata": {},
   "outputs": [
    {
     "data": {
      "text/plain": [
       "8"
      ]
     },
     "execution_count": 19,
     "metadata": {},
     "output_type": "execute_result"
    }
   ],
   "source": [
    "arr = [1, 4, 3, -5, -4, 8, 6]\n",
    "n = len(arr)\n",
    "def maim(arr, n):\n",
    "    if (n == 1):\n",
    "        return arr[0]\n",
    "    return max(arr[n - 1], maim(arr, n - 1))\n",
    "\n",
    "maim(arr, n)"
   ]
  },
  {
   "cell_type": "code",
   "execution_count": null,
   "id": "b797b62c",
   "metadata": {},
   "outputs": [],
   "source": [
    "'''**Question 6**\n",
    "\n",
    "Given first term (a), common difference (d) and a integer N of the Arithmetic Progression series, the task is to find Nth term of the series.\n",
    "\n",
    "**Example 1:**\n",
    "\n",
    "Input : a = 2 d = 1 N = 5\n",
    "Output : 6\n",
    "The 5th term of the series is : 6\n",
    "\n",
    "**Example 2:**\n",
    "\n",
    "Input : a = 5 d = 2 N = 10\n",
    "Output : 23\n",
    "The 10th term of the series is : 23'''"
   ]
  },
  {
   "cell_type": "code",
   "execution_count": 39,
   "id": "07ff30c4",
   "metadata": {},
   "outputs": [
    {
     "name": "stdout",
     "output_type": "stream",
     "text": [
      "a 2\n",
      "d 1\n",
      "n 5\n"
     ]
    },
    {
     "data": {
      "text/plain": [
       "6"
      ]
     },
     "execution_count": 39,
     "metadata": {},
     "output_type": "execute_result"
    }
   ],
   "source": [
    "a = int(input('a '))\n",
    "d = int(input('d '))\n",
    "n = int(input('n '))\n",
    "def airthmetic(a, d, n):\n",
    "    if n == 1:\n",
    "        return a\n",
    "    return d + airthmetic(a,d,n-1)\n",
    "airthmetic(a, d, n)"
   ]
  },
  {
   "cell_type": "code",
   "execution_count": 24,
   "id": "6cb93960",
   "metadata": {},
   "outputs": [
    {
     "data": {
      "text/plain": [
       "'**Question 7**\\n\\nGiven a string S, the task is to write a program to print all permutations of a given string.\\n\\n**Example 1:a**\\n\\n***Input:***\\n\\n*S = “ABC”*\\n\\n***Output:***\\n\\n*“ABC”, “ACB”, “BAC”, “BCA”, “CBA”, “CAB”*\\n\\n**Example 2:**\\n\\n***Input:***\\n\\n*S = “XY”*\\n\\n***Output:***\\n\\n*“XY”, “YX”*'"
      ]
     },
     "execution_count": 24,
     "metadata": {},
     "output_type": "execute_result"
    }
   ],
   "source": [
    "'''**Question 7**\n",
    "\n",
    "Given a string S, the task is to write a program to print all permutations of a given string.\n",
    "\n",
    "**Example 1:a**\n",
    "\n",
    "***Input:***\n",
    "\n",
    "*S = “ABC”*\n",
    "\n",
    "***Output:***\n",
    "\n",
    "*“ABC”, “ACB”, “BAC”, “BCA”, “CBA”, “CAB”*\n",
    "\n",
    "**Example 2:**\n",
    "\n",
    "***Input:***\n",
    "\n",
    "*S = “XY”*\n",
    "\n",
    "***Output:***\n",
    "\n",
    "*“XY”, “YX”*'''"
   ]
  },
  {
   "cell_type": "code",
   "execution_count": 33,
   "id": "3311276d",
   "metadata": {},
   "outputs": [
    {
     "name": "stdout",
     "output_type": "stream",
     "text": [
      "ABC  ACB  BAC  BCA  CAB  CBA  "
     ]
    }
   ],
   "source": [
    "def permute(s, answer):\n",
    "    if (len(s) == 0):\n",
    "        print(answer, end=\"  \")\n",
    "        return\n",
    " \n",
    "    for i in range(len(s)):\n",
    "        ch = s[i]\n",
    "        left_substr = s[0:i]\n",
    "        right_substr = s[i + 1:]\n",
    "        rest = left_substr + right_substr\n",
    "        permute(rest, answer + ch)\n",
    "answer = \"\"\n",
    " \n",
    "s = \"ABC\"\n",
    "permute(s, answer)"
   ]
  },
  {
   "cell_type": "code",
   "execution_count": null,
   "id": "3491faeb",
   "metadata": {},
   "outputs": [],
   "source": [
    "'''**Question 8**\n",
    "\n",
    "Given an array, find a product of all array elements.\n",
    "\n",
    "**Example 1:**\n",
    "\n",
    "Input  : arr[] = {1, 2, 3, 4, 5}\n",
    "Output : 120\n",
    "**Example 2:**\n",
    "\n",
    "Input  : arr[] = {1, 6, 3}\n",
    "Output : 18'''"
   ]
  },
  {
   "cell_type": "code",
   "execution_count": 32,
   "id": "7637e105",
   "metadata": {},
   "outputs": [
    {
     "data": {
      "text/plain": [
       "120"
      ]
     },
     "execution_count": 32,
     "metadata": {},
     "output_type": "execute_result"
    }
   ],
   "source": [
    "arr = [1, 2, 3, 4, 5]\n",
    "n = len(arr)\n",
    "def maim(arr, n):\n",
    "    if (n == 1):\n",
    "        return arr[0]\n",
    "    return arr[n - 1]* maim(arr, n - 1)\n",
    "\n",
    "maim(arr, n)"
   ]
  }
 ],
 "metadata": {
  "kernelspec": {
   "display_name": "Python 3 (ipykernel)",
   "language": "python",
   "name": "python3"
  },
  "language_info": {
   "codemirror_mode": {
    "name": "ipython",
    "version": 3
   },
   "file_extension": ".py",
   "mimetype": "text/x-python",
   "name": "python",
   "nbconvert_exporter": "python",
   "pygments_lexer": "ipython3",
   "version": "3.9.13"
  }
 },
 "nbformat": 4,
 "nbformat_minor": 5
}
