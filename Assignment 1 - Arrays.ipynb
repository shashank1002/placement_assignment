{
 "cells": [
  {
   "cell_type": "raw",
   "id": "463aacc5",
   "metadata": {},
   "source": [
    "**Q1.** Given an array of integers nums and an integer target, return indices of the two numbers such that they add up to target.\n",
    "\n",
    "You may assume that each input would have exactly one solution, and you may not use the same element twice.\n",
    "\n",
    "You can return the answer in any order.\n",
    "\n",
    "**Example:**\n",
    "Input: nums = [2,7,11,15], target = 9\n",
    "Output0 [0,1]\n",
    "\n",
    "**Explanation:** Because nums[0] + nums[1] == 9, we return [0, 1]"
   ]
  },
  {
   "cell_type": "code",
   "execution_count": 31,
   "id": "bb6d7d63",
   "metadata": {},
   "outputs": [
    {
     "name": "stdout",
     "output_type": "stream",
     "text": [
      "2 7 11 15\n",
      "9\n",
      "[0, 1]\n"
     ]
    }
   ],
   "source": [
    "s = list(map(int,input().split())) # 1 2 3 4\n",
    "target = int(input())\n",
    "for i in range(len(s)-1):\n",
    "    for k in range(1,len(s)):\n",
    "        if s[i] + s[k] == target:\n",
    "            print([i,k])\n",
    "            break"
   ]
  },
  {
   "cell_type": "raw",
   "id": "6dc6b57d",
   "metadata": {},
   "source": [
    "**Q2.** Given an integer array nums and an integer val, remove all occurrences of val in nums in-place. The order of the elements may be changed. Then return the number of elements in nums which are not equal to val.\n",
    "\n",
    "Consider the number of elements in nums which are not equal to val be k, to get accepted, you need to do the following things:\n",
    "\n",
    "- Change the array nums such that the first k elements of nums contain the elements which are not equal to val. The remaining elements of nums are not important as well as the size of nums.\n",
    "- Return k.\n",
    "\n",
    "**Example :**\n",
    "Input: nums = [3,2,2,3], val = 3\n",
    "Output: 2, nums = [2,2,_,_]\n",
    "**Explanation:** Your function should return k = 2, with the first two elements of nums being 2. It does not matter what you leave beyond the returned k (hence they are underscores)"
   ]
  },
  {
   "cell_type": "code",
   "execution_count": 37,
   "id": "ba03c480",
   "metadata": {},
   "outputs": [
    {
     "name": "stdout",
     "output_type": "stream",
     "text": [
      "1 2 2 3 4\n",
      "3\n",
      "4 [1, 2, 2, 4, '_']\n"
     ]
    }
   ],
   "source": [
    "a = list(map(int,input().split())) # 1 2 3 4\n",
    "val = int(input())\n",
    "count = 0\n",
    "while val in a:\n",
    "    a.remove(val)\n",
    "    a.append(\"_\")\n",
    "    count += 1\n",
    "print(len(a)-count,a)"
   ]
  },
  {
   "cell_type": "raw",
   "id": "9078d5b8",
   "metadata": {},
   "source": [
    "**Q3.** Given a sorted array of distinct integers and a target value, return the index if the target is found. If not, return the index where it would be if it were inserted in order.\n",
    "\n",
    "You must write an algorithm with O(log n) runtime complexity.\n",
    "\n",
    "**Example 1:**\n",
    "Input: nums = [1,3,5,6], target = 5\n",
    "\n",
    "Output: 2"
   ]
  },
  {
   "cell_type": "code",
   "execution_count": null,
   "id": "4c4ef6fa",
   "metadata": {},
   "outputs": [],
   "source": [
    "a = list(map(int,input().split())) # 1 2 3 4\n",
    "target = int(input())\n",
    "s = a.index(target)\n",
    "print(s)"
   ]
  },
  {
   "cell_type": "raw",
   "id": "f9137fbd",
   "metadata": {},
   "source": [
    "**Q4.** You are given a large integer represented as an integer array digits, where each digits[i] is the ith digit of the integer. The digits are ordered from most significant to least significant in left-to-right order. The large integer does not contain any leading 0's.\n",
    "\n",
    "Increment the large integer by one and return the resulting array of digits.\n",
    "\n",
    "**Example 1:**\n",
    "Input: digits = [1,2,3]\n",
    "Output: [1,2,4]\n",
    "\n",
    "**Explanation:** The array represents the integer 123.\n",
    "\n",
    "Incrementing by one gives 123 + 1 = 124.\n",
    "Thus, the result should be [1,2,4]."
   ]
  },
  {
   "cell_type": "code",
   "execution_count": 25,
   "id": "aedede40",
   "metadata": {},
   "outputs": [
    {
     "name": "stdout",
     "output_type": "stream",
     "text": [
      "9\n",
      "['1', '0']\n"
     ]
    }
   ],
   "source": [
    "n = list(map(str,input().split()))\n",
    "n = int(\"\".join(n))\n",
    "n = list(str(n+1))\n",
    "print(n)"
   ]
  },
  {
   "cell_type": "raw",
   "id": "c3aab5b2",
   "metadata": {},
   "source": [
    "**Q5.** You are given two integer arrays nums1 and nums2, sorted in non-decreasing order, and two integers m and n, representing the number of elements in nums1 and nums2 respectively.\n",
    "\n",
    "Merge nums1 and nums2 into a single array sorted in non-decreasing order.\n",
    "\n",
    "The final sorted array should not be returned by the function, but instead be stored inside the array nums1. To accommodate this, nums1 has a length of m + n, where the first m elements denote the elements that should be merged, and the last n elements are set to 0 and should be ignored. nums2 has a length of n.\n",
    "\n",
    "**Example 1:**\n",
    "Input: nums1 = [1,2,3,0,0,0], m = 3, nums2 = [2,5,6], n = 3\n",
    "Output: [1,2,2,3,5,6]\n",
    "\n",
    "**Explanation:** The arrays we are merging are [1,2,3] and [2,5,6].\n",
    "The result of the merge is [1,2,2,3,5,6] with the underlined elements coming from nums1."
   ]
  },
  {
   "cell_type": "code",
   "execution_count": 9,
   "id": "93c90e68",
   "metadata": {},
   "outputs": [
    {
     "name": "stdout",
     "output_type": "stream",
     "text": [
      "1 2 3 0 0 0\n",
      "2 5 6\n",
      "2\n",
      "3\n",
      "[1, 2, 2, 3, 5, 6]\n"
     ]
    }
   ],
   "source": [
    "num1 = list(map(int,input().split()))\n",
    "num2 = list(map(int,input().split()))\n",
    "n = int(input())\n",
    "m = int(input())\n",
    "def merge(num1,m,num2,n):\n",
    "    i = 0\n",
    "    for x in range(len(num1)):\n",
    "        if i >= n:\n",
    "            break\n",
    "        if num1[x] == 0:\n",
    "            num1[x] = num2[i]\n",
    "            i = i+ 1\n",
    "    num1.sort()\n",
    "    return num1\n",
    "print(merge(num1,n,num2,m))"
   ]
  },
  {
   "cell_type": "raw",
   "id": "48d592d9",
   "metadata": {},
   "source": [
    "**Q6.** Given an integer array nums, return true if any value appears at least twice in the array, and return false if every element is distinct.\n",
    "\n",
    "**Example 1:**\n",
    "Input: nums = [1,2,3,1]\n",
    "\n",
    "Output: true"
   ]
  },
  {
   "cell_type": "code",
   "execution_count": 23,
   "id": "cd379e44",
   "metadata": {},
   "outputs": [
    {
     "name": "stdout",
     "output_type": "stream",
     "text": [
      "1 2 3 1\n",
      "True\n"
     ]
    }
   ],
   "source": [
    "nums = list(map(int,input().split()))\n",
    "for i in set(nums):\n",
    "    if nums.count(i) > 1:\n",
    "        print(True)\n",
    "        break\n",
    "else:\n",
    "    print(False)"
   ]
  },
  {
   "cell_type": "raw",
   "id": "248cb5de",
   "metadata": {},
   "source": [
    "**Q7.** Given an integer array nums, move all 0's to the end of it while maintaining the relative order of the nonzero elements.\n",
    "\n",
    "Note that you must do this in-place without making a copy of the array.\n",
    "\n",
    "**Example 1:**\n",
    "Input: nums = [0,1,0,3,12]\n",
    "Output: [1,3,12,0,0]"
   ]
  },
  {
   "cell_type": "code",
   "execution_count": 25,
   "id": "3f0a823c",
   "metadata": {},
   "outputs": [
    {
     "name": "stdout",
     "output_type": "stream",
     "text": [
      "0 1 0 2 12\n",
      "[1, 2, 12, 0, 0]\n"
     ]
    }
   ],
   "source": [
    "nums = list(map(int,input().split()))\n",
    "nums.sort()\n",
    "for i in nums:\n",
    "    if i == 0:\n",
    "        nums.remove(0)\n",
    "        nums.append(0)\n",
    "print(nums)"
   ]
  },
  {
   "cell_type": "raw",
   "id": "5838451e",
   "metadata": {},
   "source": [
    "**Q8.** You have a set of integers s, which originally contains all the numbers from 1 to n. Unfortunately, due to some error, one of the numbers in s got duplicated to another number in the set, which results in repetition of one number and loss of another number.\n",
    "\n",
    "You are given an integer array nums representing the data status of this set after the error.\n",
    "\n",
    "Find the number that occurs twice and the number that is missing and return them in the form of an array.\n",
    "\n",
    "**Example 1:**\n",
    "Input: nums = [1,2,2,4]\n",
    "Output: [2,3] "
   ]
  },
  {
   "cell_type": "code",
   "execution_count": 28,
   "id": "bccc6592",
   "metadata": {},
   "outputs": [
    {
     "name": "stdout",
     "output_type": "stream",
     "text": [
      "1 2 2 3\n",
      "[2, 3]\n"
     ]
    }
   ],
   "source": [
    "nums = list(map(int,input().split()))\n",
    "nums.sort()\n",
    "for i in range(len(nums)-1):\n",
    "     if nums[i] == nums[i+1]:\n",
    "            print([nums[i],nums[i+1]+1])"
   ]
  }
 ],
 "metadata": {
  "kernelspec": {
   "display_name": "Python 3 (ipykernel)",
   "language": "python",
   "name": "python3"
  },
  "language_info": {
   "codemirror_mode": {
    "name": "ipython",
    "version": 3
   },
   "file_extension": ".py",
   "mimetype": "text/x-python",
   "name": "python",
   "nbconvert_exporter": "python",
   "pygments_lexer": "ipython3",
   "version": "3.9.13"
  }
 },
 "nbformat": 4,
 "nbformat_minor": 5
}
