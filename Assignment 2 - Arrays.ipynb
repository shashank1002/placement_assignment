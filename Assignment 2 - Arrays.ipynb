{
 "cells": [
  {
   "cell_type": "code",
   "execution_count": null,
   "id": "39a702fc",
   "metadata": {},
   "outputs": [],
   "source": [
    "''' **Question 1**\n",
    "Given an integer array nums of 2n integers, group these integers into n pairs (a1, b1), (a2, b2),..., (an, bn) such that the sum of min(ai, bi) for all i is maximized. Return the maximized sum.\n",
    "\n",
    "**Example 1:**\n",
    "Input: nums = [1,4,3,2]\n",
    "Output: 4\n",
    "\n",
    "**Explanation:** All possible pairings (ignoring the ordering of elements) are:\n",
    "\n",
    "1. (1, 4), (2, 3) -> min(1, 4) + min(2, 3) = 1 + 2 = 3\n",
    "2. (1, 3), (2, 4) -> min(1, 3) + min(2, 4) = 1 + 2 = 3\n",
    "3. (1, 2), (3, 4) -> min(1, 2) + min(3, 4) = 1 + 3 = 4\n",
    "So the maximum possible sum is 4**Question 2**'''"
   ]
  },
  {
   "cell_type": "code",
   "execution_count": 67,
   "id": "c648cf9b",
   "metadata": {},
   "outputs": [
    {
     "name": "stdout",
     "output_type": "stream",
     "text": [
      "1 4 3 2\n",
      "4\n"
     ]
    }
   ],
   "source": [
    "nums = list(map(int,input().split()))\n",
    "nums.sort()\n",
    "n = 0\n",
    "for i in range(0,len(nums)-1,2):\n",
    "    n = n + nums[i]\n",
    "print(n)"
   ]
  },
  {
   "cell_type": "code",
   "execution_count": null,
   "id": "79ffc23d",
   "metadata": {},
   "outputs": [],
   "source": [
    "'''Question 2\n",
    "Alice has n candies, where the ith candy is of type candyType[i]. Alice noticed that she started to gain weight, so she visited a doctor. \n",
    "\n",
    "The doctor advised Alice to only eat n / 2 of the candies she has (n is always even). Alice likes her candies very much, and she wants to eat the maximum number of different types of candies while still following the doctor's advice. \n",
    "\n",
    "Given the integer array candyType of length n, return the maximum number of different types of candies she can eat if she only eats n / 2 of them.\n",
    "\n",
    "Example 1: \n",
    "Input: candyType = [1,1,2,2,3,3]\n",
    "Output: 3\n",
    "\n",
    "Explanation: Alice can only eat 6 / 2 = 3 candies. Since there are only 3 types, she can eat one of each type.'''"
   ]
  },
  {
   "cell_type": "code",
   "execution_count": 60,
   "id": "2c76daac",
   "metadata": {},
   "outputs": [
    {
     "name": "stdout",
     "output_type": "stream",
     "text": [
      "1 1 2 2 3 3\n",
      "3\n"
     ]
    }
   ],
   "source": [
    "nums = list(map(int,input().split()))\n",
    "print(min(len(set(nums)),len(nums)//2))"
   ]
  },
  {
   "cell_type": "code",
   "execution_count": null,
   "id": "8b42d014",
   "metadata": {},
   "outputs": [],
   "source": [
    "'''Question 3\n",
    "We define a harmonious array as an array where the difference between its maximum value\n",
    "and its minimum value is exactly 1.\n",
    "\n",
    "Given an integer array nums, return the length of its longest harmonious subsequence\n",
    "among all its possible subsequences.\n",
    "\n",
    "A subsequence of an array is a sequence that can be derived from the array by deleting some or no elements without changing the order of the remaining elements.\n",
    "\n",
    "Example 1:\n",
    "Input: nums = [1,3,2,2,5,2,3,7]\n",
    "Output: 5\n",
    "\n",
    "Explanation: The longest harmonious subsequence is [3,2,2,2,3].'''"
   ]
  },
  {
   "cell_type": "code",
   "execution_count": 58,
   "id": "ff484259",
   "metadata": {},
   "outputs": [
    {
     "name": "stdout",
     "output_type": "stream",
     "text": [
      "1 3 2 2 5 2 3 7\n",
      "5\n"
     ]
    }
   ],
   "source": [
    "nums = list(map(int,input().split()))\n",
    "d, a = {}, 0\n",
    "for i in nums:\n",
    "    if i not in d: d[i] = 1\n",
    "    else: d[i] += 1\n",
    "for i in d:\n",
    "    if i + 1 in d.keys():\n",
    "        a = max(a, d[i] + d[i+1])\n",
    "print(a)"
   ]
  },
  {
   "cell_type": "code",
   "execution_count": null,
   "id": "d25a0472",
   "metadata": {},
   "outputs": [],
   "source": [
    "'''Question 4\n",
    "You have a long flowerbed in which some of the plots are planted, and some are not.\n",
    "However, flowers cannot be planted in adjacent plots.\n",
    "Given an integer array flowerbed containing 0's and 1's, where 0 means empty and 1 means not empty, and an integer n, return true if n new flowers can be planted in the flowerbed without violating the no-adjacent-flowers rule and false otherwise.\n",
    "\n",
    "Example 1:\n",
    "Input: flowerbed = [1,0,0,0,1], n = 1\n",
    "Output: true'''"
   ]
  },
  {
   "cell_type": "code",
   "execution_count": null,
   "id": "d59b61a4",
   "metadata": {},
   "outputs": [],
   "source": []
  },
  {
   "cell_type": "code",
   "execution_count": 24,
   "id": "31430cea",
   "metadata": {},
   "outputs": [
    {
     "data": {
      "text/plain": [
       "'Question 5\\nGiven an integer array nums, find three numbers whose product is maximum and return the maximum product.\\n\\nExample 1:\\nInput: nums = [1,2,3]\\nOutput: 6'"
      ]
     },
     "execution_count": 24,
     "metadata": {},
     "output_type": "execute_result"
    }
   ],
   "source": [
    "'''Question 5\n",
    "Given an integer array nums, find three numbers whose product is maximum and return the maximum product.\n",
    "\n",
    "Example 1:\n",
    "Input: nums = [1,2,3]\n",
    "Output: 6'''"
   ]
  },
  {
   "cell_type": "code",
   "execution_count": 25,
   "id": "90f78a42",
   "metadata": {},
   "outputs": [
    {
     "name": "stdout",
     "output_type": "stream",
     "text": [
      "1 2 3\n",
      "6\n"
     ]
    }
   ],
   "source": [
    "nums = list(map(int,input().split()))\n",
    "nums.sort()\n",
    "print(nums[-1]*nums[-2]*nums[-3])"
   ]
  },
  {
   "cell_type": "code",
   "execution_count": null,
   "id": "0852d71c",
   "metadata": {},
   "outputs": [],
   "source": [
    "'''Question 6\n",
    "Given an array of integers nums which is sorted in ascending order, and an integer target,\n",
    "write a function to search target in nums. If target exists, then return its index. Otherwise,\n",
    "return -1.\n",
    "\n",
    "You must write an algorithm with O(log n) runtime complexity.\n",
    "\n",
    "Input: nums = [-1,0,3,5,9,12], target = 9\n",
    "Output: 4\n",
    "\n",
    "Explanation: 9 exists in nums and its index is 4'''"
   ]
  },
  {
   "cell_type": "code",
   "execution_count": 5,
   "id": "2e14257d",
   "metadata": {},
   "outputs": [
    {
     "name": "stdout",
     "output_type": "stream",
     "text": [
      "-1 0 3 5 9 12\n",
      "9\n",
      "4\n"
     ]
    }
   ],
   "source": [
    "nums = list(map(int,input().split()))\n",
    "target = int(input())\n",
    "if target in nums:\n",
    "    print(nums.index(target))\n",
    "else:\n",
    "    print(-1)"
   ]
  },
  {
   "cell_type": "code",
   "execution_count": null,
   "id": "d1683e8e",
   "metadata": {},
   "outputs": [],
   "source": [
    "'''Question 7\n",
    "An array is monotonic if it is either monotone increasing or monotone decreasing.\n",
    "\n",
    "An array nums is monotone increasing if for all i <= j, nums[i] <= nums[j]. An array nums is\n",
    "monotone decreasing if for all i <= j, nums[i] >= nums[j].\n",
    "\n",
    "Given an integer array nums, return true if the given array is monotonic, or false otherwise.\n",
    "\n",
    "Example 1:\n",
    "Input: nums = [1,2,2,3]\n",
    "Output: true'''"
   ]
  },
  {
   "cell_type": "code",
   "execution_count": 43,
   "id": "14a6c671",
   "metadata": {},
   "outputs": [
    {
     "name": "stdout",
     "output_type": "stream",
     "text": [
      "4 3 2 1\n",
      "True\n"
     ]
    }
   ],
   "source": [
    "nums = list(map(int,input().split()))\n",
    "num = sorted(nums)\n",
    "if len(nums) == 1:\n",
    "    print(True)\n",
    "elif nums == num or nums == num[::-1]:\n",
    "    print(True)\n",
    "else:\n",
    "    print(False)"
   ]
  },
  {
   "cell_type": "code",
   "execution_count": null,
   "id": "9dad9748",
   "metadata": {},
   "outputs": [],
   "source": [
    "'''Question 8\n",
    "You are given an integer array nums and an integer k.\n",
    "\n",
    "In one operation, you can choose any index i where 0 <= i < nums.length and change nums[i] to nums[i] + x where x is an integer from the range [-k, k]. You can apply this operation at most once for each index i.\n",
    "\n",
    "The score of nums is the difference between the maximum and minimum elements in nums.\n",
    "\n",
    "Return the minimum score of nums after applying the mentioned operation at most once for each index in it.\n",
    "\n",
    "Example 1:\n",
    "Input: nums = [1], k = 0\n",
    "Output: 0\n",
    "\n",
    "Explanation: The score is max(nums) - min(nums) = 1 - 1 = 0.'''"
   ]
  },
  {
   "cell_type": "code",
   "execution_count": 21,
   "id": "b4bcd3c3",
   "metadata": {},
   "outputs": [
    {
     "name": "stdout",
     "output_type": "stream",
     "text": [
      "0 10\n",
      "2\n",
      "6\n"
     ]
    }
   ],
   "source": [
    "nums = list(map(int,input().split()))\n",
    "k = int(input())\n",
    "x=max(nums)\n",
    "y=min(nums)\n",
    "print(max(0,(x-k)-(y+k)))"
   ]
  }
 ],
 "metadata": {
  "kernelspec": {
   "display_name": "Python 3 (ipykernel)",
   "language": "python",
   "name": "python3"
  },
  "language_info": {
   "codemirror_mode": {
    "name": "ipython",
    "version": 3
   },
   "file_extension": ".py",
   "mimetype": "text/x-python",
   "name": "python",
   "nbconvert_exporter": "python",
   "pygments_lexer": "ipython3",
   "version": "3.9.13"
  }
 },
 "nbformat": 4,
 "nbformat_minor": 5
}
