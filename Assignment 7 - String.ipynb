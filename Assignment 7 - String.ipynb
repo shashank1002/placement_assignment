{
 "cells": [
  {
   "cell_type": "code",
   "execution_count": null,
   "id": "f28a1bac",
   "metadata": {},
   "outputs": [],
   "source": [
    "'''**Question 1**\n",
    "\n",
    "Given two strings s and t, *determine if they are isomorphic*.\n",
    "\n",
    "Two strings s and t are isomorphic if the characters in s can be replaced to get t.\n",
    "\n",
    "All occurrences of a character must be replaced with another character while preserving the order of characters. No two characters may map to the same character, but a character may map to itself.\n",
    "\n",
    "**Example 1:**\n",
    "\n",
    "**Input:** s = \"egg\", t = \"add\"\n",
    "\n",
    "**Output:** true'''"
   ]
  },
  {
   "cell_type": "code",
   "execution_count": null,
   "id": "febdd5b7",
   "metadata": {},
   "outputs": [],
   "source": [
    "def isIsomorphic(s, t):\n",
    "    if len(s) != len(t):\n",
    "        return False\n",
    "    d = {}\n",
    "    s1 = set()\n",
    "    for i in range(len(s)):\n",
    "        x = s[i]\n",
    "        y = t[i]\n",
    "        if x in d:            \n",
    "            if d[x] != y:\n",
    "                return False\n",
    "        else:\n",
    "            if y in s1:\n",
    "                return False\n",
    "            d[x] = y\n",
    "            s1.add(y)\n",
    "    return True\n",
    "isIsomorphic(s,t)"
   ]
  },
  {
   "cell_type": "code",
   "execution_count": null,
   "id": "8b4e6b57",
   "metadata": {},
   "outputs": [],
   "source": [
    "\"\"\"**Question 2**\n",
    "\n",
    "Given a string num which represents an integer, return true *if* num *is a **strobogrammatic number***.\n",
    "\n",
    "A **strobogrammatic number** is a number that looks the same when rotated 180 degrees (looked at upside down).\n",
    "\n",
    "**Example 1:**\n",
    "\n",
    "**Input:** num = \"69\"\n",
    "\n",
    "**Output:**\n",
    "\n",
    "true\"\"\""
   ]
  },
  {
   "cell_type": "code",
   "execution_count": 9,
   "id": "4b1877f7",
   "metadata": {},
   "outputs": [
    {
     "name": "stdout",
     "output_type": "stream",
     "text": [
      "11\n",
      "True\n"
     ]
    }
   ],
   "source": [
    "d = {\"0\":\"0\",\"1\":\"1\",\"8\":\"8\",\"6\":\"9\",\"9\":\"6\"}\n",
    "num = input()\n",
    "val = len(num)//2\n",
    "if len(num) % 2 != 0:\n",
    "    val += 1\n",
    "for i in range(val):\n",
    "    if num[i] in d.keys() or num[-(i+1)] in d.keys():\n",
    "        if d[num[i]] == d[num[-(i+1)]]:\n",
    "            pass\n",
    "    else:\n",
    "        print(False)\n",
    "        break\n",
    "else:\n",
    "    print(True)"
   ]
  },
  {
   "cell_type": "code",
   "execution_count": 16,
   "id": "f174f0fa",
   "metadata": {},
   "outputs": [
    {
     "data": {
      "text/plain": [
       "'**Question 3**\\n\\nGiven two non-negative integers, num1 and num2 represented as string, return *the sum of* num1 *and* num2 *as a string*.\\n\\nYou must solve the problem without using any built-in library for handling large integers (such as BigInteger). You must also not convert the inputs to integers directly.\\n\\n**Example 1:**\\n\\n**Input:** num1 = \"11\", num2 = \"123\"\\n\\n**Output:**\\n\\n\"134\"'"
      ]
     },
     "execution_count": 16,
     "metadata": {},
     "output_type": "execute_result"
    }
   ],
   "source": [
    "'''**Question 3**\n",
    "\n",
    "Given two non-negative integers, num1 and num2 represented as string, return *the sum of* num1 *and* num2 *as a string*.\n",
    "\n",
    "You must solve the problem without using any built-in library for handling large integers (such as BigInteger). You must also not convert the inputs to integers directly.\n",
    "\n",
    "**Example 1:**\n",
    "\n",
    "**Input:** num1 = \"11\", num2 = \"123\"\n",
    "\n",
    "**Output:**\n",
    "\n",
    "\"134\"'''"
   ]
  },
  {
   "cell_type": "raw",
   "id": "c0e2ff60",
   "metadata": {
    "scrolled": true
   },
   "source": [
    "'''**Question 3**\n",
    "\n",
    "Given two non-negative integers, num1 and num2 represented as string, return *the sum of* num1 *and* num2 *as a string*.\n",
    "\n",
    "You must solve the problem without using any built-in library for handling large integers (such as BigInteger). You must also not convert the inputs to integers directly.\n",
    "\n",
    "**Example 1:**\n",
    "\n",
    "**Input:** num1 = \"11\", num2 = \"123\"\n",
    "\n",
    "**Output:**\n",
    "\n",
    "\"134\"'''"
   ]
  },
  {
   "cell_type": "code",
   "execution_count": 37,
   "id": "c92e3dd4",
   "metadata": {},
   "outputs": [
    {
     "name": "stdout",
     "output_type": "stream",
     "text": [
      "12\n",
      "1\n",
      "13\n"
     ]
    }
   ],
   "source": [
    "num1 = input()\n",
    "num2 = input()\n",
    "d = {\"0\":0,\"1\":1,\"2\":2,\"3\":3,\"4\":4,\"5\":5,\"6\":6,\"7\":7,\"8\":8,\"9\":9}\n",
    "def convert(nums):\n",
    "    n = 0\n",
    "    for i in nums:\n",
    "        n = n * 10 + d[i]\n",
    "    return n\n",
    "print(convert(num1) + convert(num2))"
   ]
  },
  {
   "cell_type": "code",
   "execution_count": 40,
   "id": "b72e0ae9",
   "metadata": {},
   "outputs": [
    {
     "data": {
      "text/plain": [
       "'**Question 4**\\n\\nGiven a string s, reverse the order of characters in each word within a sentence while still preserving whitespace and initial word order.\\n\\n**Example 1:**\\n\\n**Input:** s = \"Let\\'s take LeetCode contest\"\\n\\n**Output:** \"s\\'teL ekat edoCteeL tsetnoc\"'"
      ]
     },
     "execution_count": 40,
     "metadata": {},
     "output_type": "execute_result"
    }
   ],
   "source": [
    "'''**Question 4**\n",
    "\n",
    "Given a string s, reverse the order of characters in each word within a sentence while still preserving whitespace and initial word order.\n",
    "\n",
    "**Example 1:**\n",
    "\n",
    "**Input:** s = \"Let's take LeetCode contest\"\n",
    "\n",
    "**Output:** \"s'teL ekat edoCteeL tsetnoc\"'''"
   ]
  },
  {
   "cell_type": "code",
   "execution_count": 59,
   "id": "381c8bc8",
   "metadata": {},
   "outputs": [
    {
     "name": "stdout",
     "output_type": "stream",
     "text": [
      "Let's take LeetCode contest\n",
      "s'teL ekat edoCteeL tsetnoc\n"
     ]
    }
   ],
   "source": [
    "s = input()\n",
    "s = s.split()\n",
    "for i in range(len(s)):\n",
    "    s[i] = s[i][::-1]\n",
    "print(\" \".join(s))"
   ]
  },
  {
   "cell_type": "code",
   "execution_count": 60,
   "id": "68080f84",
   "metadata": {},
   "outputs": [
    {
     "data": {
      "text/plain": [
       "'**Question 5**\\n\\nGiven a string s and an integer k, reverse the first k characters for every 2k characters counting from the start of the string.\\n\\nIf there are fewer than k characters left, reverse all of them. If there are less than 2k but greater than or equal to k characters, then reverse the first k characters and leave the other as original.\\n\\n**Example 1:**\\n\\n**Input:** s = \"abcdefg\", k = 2\\n\\n**Output:**\\n\\n\"bacdfeg\"'"
      ]
     },
     "execution_count": 60,
     "metadata": {},
     "output_type": "execute_result"
    }
   ],
   "source": [
    "'''**Question 5**\n",
    "\n",
    "Given a string s and an integer k, reverse the first k characters for every 2k characters counting from the start of the string.\n",
    "\n",
    "If there are fewer than k characters left, reverse all of them. If there are less than 2k but greater than or equal to k characters, then reverse the first k characters and leave the other as original.\n",
    "\n",
    "**Example 1:**\n",
    "\n",
    "**Input:** s = \"abcdefg\", k = 2\n",
    "\n",
    "**Output:**\n",
    "\n",
    "\"bacdfeg\"'''"
   ]
  },
  {
   "cell_type": "code",
   "execution_count": 80,
   "id": "a208625e",
   "metadata": {},
   "outputs": [
    {
     "name": "stdout",
     "output_type": "stream",
     "text": [
      "abcdefg\n",
      "2\n",
      "bacdfeg\n"
     ]
    }
   ],
   "source": [
    "s = list(input())\n",
    "k = int(input())\n",
    "i = 0\n",
    "while i < len(s):\n",
    "    if i + k <= len(s):\n",
    "        s[i:i+k] = s[i:i+k][::-1]\n",
    "    else:\n",
    "        s[i:] = s[i:][::-1]\n",
    "    i += 2 * k\n",
    "print(''.join(s))"
   ]
  },
  {
   "cell_type": "code",
   "execution_count": null,
   "id": "8dcc36e7",
   "metadata": {},
   "outputs": [],
   "source": []
  },
  {
   "cell_type": "code",
   "execution_count": null,
   "id": "6e7a73ed",
   "metadata": {},
   "outputs": [],
   "source": [
    "''' **Question 8**\n",
    "\n",
    "You are given an array coordinates, coordinates[i] = [x, y], where [x, y] represents the coordinate of a point. Check if these points make a straight line in the XY plane.\n",
    "\n",
    "**Example 1:**\n",
    "\n",
    "**Input:** coordinates = [[1,2],[2,3],[3,4],[4,5],[5,6],[6,7]]\n",
    "\n",
    "**Output:** true'''"
   ]
  },
  {
   "cell_type": "code",
   "execution_count": 82,
   "id": "7e506b97",
   "metadata": {},
   "outputs": [
    {
     "name": "stdout",
     "output_type": "stream",
     "text": [
      "[(1,2),(2,4),(2,1)]\n",
      "False\n"
     ]
    }
   ],
   "source": [
    "val = eval(input())\n",
    "(x0, y0), (x1, y1) = val[:2]\n",
    "print(all((x1 - x0) * (y - y1) == (x - x1) * (y1 - y0) for x, y in val))"
   ]
  }
 ],
 "metadata": {
  "kernelspec": {
   "display_name": "Python 3 (ipykernel)",
   "language": "python",
   "name": "python3"
  },
  "language_info": {
   "codemirror_mode": {
    "name": "ipython",
    "version": 3
   },
   "file_extension": ".py",
   "mimetype": "text/x-python",
   "name": "python",
   "nbconvert_exporter": "python",
   "pygments_lexer": "ipython3",
   "version": "3.9.13"
  }
 },
 "nbformat": 4,
 "nbformat_minor": 5
}
