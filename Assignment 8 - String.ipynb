{
 "cells": [
  {
   "cell_type": "code",
   "execution_count": 1,
   "id": "df22baaf",
   "metadata": {},
   "outputs": [
    {
     "data": {
      "text/plain": [
       "'Question 1\\n\\nGiven two strings s1 and s2, return the lowest ASCII sum of deleted characters to make two strings equal.\\nExample 1:\\nInput: s1 = \"sea\", s2 = \"eat\"\\nOutput: 231\\nExplanation: Deleting \"s\" from \"sea\" adds the ASCII value of \"s\" (115) to the sum.\\nDeleting \"t\" from \"eat\" adds 116 to the sum.\\nAt the end, both strings are equal, and 115 + 116 = 231 is the minimum sum possible to achieve this.'"
      ]
     },
     "execution_count": 1,
     "metadata": {},
     "output_type": "execute_result"
    }
   ],
   "source": [
    "'''Question 1\n",
    "\n",
    "Given two strings s1 and s2, return the lowest ASCII sum of deleted characters to make two strings equal.\n",
    "Example 1:\n",
    "Input: s1 = \"sea\", s2 = \"eat\"\n",
    "Output: 231\n",
    "Explanation: Deleting \"s\" from \"sea\" adds the ASCII value of \"s\" (115) to the sum.\n",
    "Deleting \"t\" from \"eat\" adds 116 to the sum.\n",
    "At the end, both strings are equal, and 115 + 116 = 231 is the minimum sum possible to achieve this.'''"
   ]
  },
  {
   "cell_type": "code",
   "execution_count": 2,
   "id": "618ff805",
   "metadata": {},
   "outputs": [
    {
     "name": "stdout",
     "output_type": "stream",
     "text": [
      "sea\n",
      "eat\n"
     ]
    },
    {
     "data": {
      "text/plain": [
       "231"
      ]
     },
     "execution_count": 2,
     "metadata": {},
     "output_type": "execute_result"
    }
   ],
   "source": [
    "s1 = input()\n",
    "s2 = input()\n",
    "def minimum(s1,s2):\n",
    "        m, n = len(s1), len(s2)\n",
    "        l = [[0] * (m + 1) for i in range(n + 1)]\n",
    "\n",
    "        for i in range(1, m + 1):\n",
    "            for j in range(1, n + 1):\n",
    "                if s1[i - 1] == s2[j - 1]:\n",
    "                    l[j][i] = l[j - 1][i - 1] + ord(s1[i - 1])\n",
    "                else:\n",
    "                    l[j][i] = max(l[j - 1][i], l[j][i - 1])\n",
    "        return sum(map(ord, s1 + s2)) - l[-1][-1] * 2\n",
    "minimum(s1,s2)"
   ]
  },
  {
   "cell_type": "code",
   "execution_count": 3,
   "id": "6a68fabe",
   "metadata": {},
   "outputs": [
    {
     "data": {
      "text/plain": [
       "'**Question 2**\\n\\nGiven a string s containing only three types of characters: \\'(\\', \\')\\' and \\'*\\', return true *if* s *is **valid***.\\n\\nThe following rules define a **valid** string:\\n\\n- Any left parenthesis \\'(\\' must have a corresponding right parenthesis \\')\\'.\\n- Any right parenthesis \\')\\' must have a corresponding left parenthesis \\'(\\'.\\n- Left parenthesis \\'(\\' must go before the corresponding right parenthesis \\')\\'.\\n- \\'*\\' could be treated as a single right parenthesis \\')\\' or a single left parenthesis \\'(\\' or an empty string \"\".\\n\\n**Example 1:**\\n\\n**Input:** s = \"()\"\\n\\n**Output:**\\n\\ntrue\\n\\n</aside>'"
      ]
     },
     "execution_count": 3,
     "metadata": {},
     "output_type": "execute_result"
    }
   ],
   "source": [
    "'''**Question 2**\n",
    "\n",
    "Given a string s containing only three types of characters: '(', ')' and '*', return true *if* s *is **valid***.\n",
    "\n",
    "The following rules define a **valid** string:\n",
    "\n",
    "- Any left parenthesis '(' must have a corresponding right parenthesis ')'.\n",
    "- Any right parenthesis ')' must have a corresponding left parenthesis '('.\n",
    "- Left parenthesis '(' must go before the corresponding right parenthesis ')'.\n",
    "- '*' could be treated as a single right parenthesis ')' or a single left parenthesis '(' or an empty string \"\".\n",
    "\n",
    "**Example 1:**\n",
    "\n",
    "**Input:** s = \"()\"\n",
    "\n",
    "**Output:**\n",
    "\n",
    "true'''"
   ]
  },
  {
   "cell_type": "code",
   "execution_count": 13,
   "id": "99c7a43b",
   "metadata": {},
   "outputs": [
    {
     "name": "stdout",
     "output_type": "stream",
     "text": [
      "()\n"
     ]
    },
    {
     "data": {
      "text/plain": [
       "True"
      ]
     },
     "execution_count": 13,
     "metadata": {},
     "output_type": "execute_result"
    }
   ],
   "source": [
    "s=input()\n",
    "def valid(s):\n",
    "        n = 0\n",
    "        l = 0\n",
    "        \n",
    "        N = len(s)\n",
    "        for i in range(N):\n",
    "            n += 1 if s[i] != \")\" else -1\n",
    "            l += 1 if s[N - 1 - i] != \"(\" else -1\n",
    "\n",
    "            if l < 0 or n < 0:\n",
    "                return False\n",
    "        return True\n",
    "valid(s)"
   ]
  },
  {
   "cell_type": "code",
   "execution_count": 14,
   "id": "d228a679",
   "metadata": {},
   "outputs": [
    {
     "data": {
      "text/plain": [
       "'**Question 3**\\n\\nGiven two strings word1 and word2, return *the minimum number of **steps** required to make* word1 *and* word2 *the same*.\\n\\nIn one **step**, you can delete exactly one character in either string.\\n\\n**Example 1:**\\n\\n**Input:** word1 = \"sea\", word2 = \"eat\"\\n\\n**Output:** 2\\n\\n**Explanation:** You need one step to make \"sea\" to \"ea\" and another step to make \"eat\" to \"ea\".'"
      ]
     },
     "execution_count": 14,
     "metadata": {},
     "output_type": "execute_result"
    }
   ],
   "source": [
    "'''**Question 3**\n",
    "\n",
    "Given two strings word1 and word2, return *the minimum number of **steps** required to make* word1 *and* word2 *the same*.\n",
    "\n",
    "In one **step**, you can delete exactly one character in either string.\n",
    "\n",
    "**Example 1:**\n",
    "\n",
    "**Input:** word1 = \"sea\", word2 = \"eat\"\n",
    "\n",
    "**Output:** 2\n",
    "\n",
    "**Explanation:** You need one step to make \"sea\" to \"ea\" and another step to make \"eat\" to \"ea\".'''"
   ]
  },
  {
   "cell_type": "code",
   "execution_count": 47,
   "id": "85f2f11c",
   "metadata": {},
   "outputs": [
    {
     "name": "stdout",
     "output_type": "stream",
     "text": [
      "sea\n",
      "eat\n"
     ]
    },
    {
     "data": {
      "text/plain": [
       "2"
      ]
     },
     "execution_count": 47,
     "metadata": {},
     "output_type": "execute_result"
    }
   ],
   "source": [
    "s = input()\n",
    "a = input()\n",
    "def minimum(s,a):\n",
    "        m = len(s)\n",
    "        n = len(a)\n",
    "        l = [[0]*(n+1) for i in range(m+1)]\n",
    "        for i in range(1,m+1):\n",
    "            for j in range(1,n+1):\n",
    "                if s[i-1]==a[j-1]:\n",
    "                    l[i][j] = l[i-1][j-1]+1\n",
    "                else:\n",
    "                    l[i][j] = max(l[i][j-1],l[i-1][j])\n",
    "        lcs = l[m][n]\n",
    "        return (m+n)-2*lcs\n",
    "minimum(s,a)"
   ]
  },
  {
   "cell_type": "code",
   "execution_count": 15,
   "id": "38836c5a",
   "metadata": {},
   "outputs": [
    {
     "data": {
      "text/plain": [
       "'**Question 4**\\n\\nYou need to construct a binary tree from a string consisting of parenthesis and integers.\\n\\nThe whole input represents a binary tree. It contains an integer followed by zero, one or two pairs of parenthesis. The integer represents the root\\'s value and a pair of parenthesis contains a child binary tree with the same structure.\\nYou always start to construct the **left** child node of the parent first if it exists.\\n\\n**Input:** s = \"4(2(3)(1))(6(5))\"\\n\\n**Output:** [4,2,6,3,1,5]'"
      ]
     },
     "execution_count": 15,
     "metadata": {},
     "output_type": "execute_result"
    }
   ],
   "source": [
    "'''**Question 4**\n",
    "\n",
    "You need to construct a binary tree from a string consisting of parenthesis and integers.\n",
    "\n",
    "The whole input represents a binary tree. It contains an integer followed by zero, one or two pairs of parenthesis. The integer represents the root's value and a pair of parenthesis contains a child binary tree with the same structure.\n",
    "You always start to construct the **left** child node of the parent first if it exists.\n",
    "\n",
    "**Input:** s = \"4(2(3)(1))(6(5))\"\n",
    "\n",
    "**Output:** [4,2,6,3,1,5]'''"
   ]
  },
  {
   "cell_type": "code",
   "execution_count": 54,
   "id": "345c7d9a",
   "metadata": {},
   "outputs": [
    {
     "name": "stdout",
     "output_type": "stream",
     "text": [
      "4(2(3)(1))(6(5))\n"
     ]
    },
    {
     "ename": "AttributeError",
     "evalue": "'str' object has no attribute 'val'",
     "output_type": "error",
     "traceback": [
      "\u001b[1;31m---------------------------------------------------------------------------\u001b[0m",
      "\u001b[1;31mAttributeError\u001b[0m                            Traceback (most recent call last)",
      "\u001b[1;32m~\\AppData\\Local\\Temp\\ipykernel_2764\\191764689.py\u001b[0m in \u001b[0;36m<module>\u001b[1;34m\u001b[0m\n\u001b[0;32m     16\u001b[0m \u001b[1;33m\u001b[0m\u001b[0m\n\u001b[0;32m     17\u001b[0m     \u001b[1;32mreturn\u001b[0m \u001b[0msolve\u001b[0m\u001b[1;33m(\u001b[0m\u001b[0mroot\u001b[0m\u001b[1;33m)\u001b[0m\u001b[1;33m\u001b[0m\u001b[1;33m\u001b[0m\u001b[0m\n\u001b[1;32m---> 18\u001b[1;33m \u001b[0mtree2str\u001b[0m\u001b[1;33m(\u001b[0m\u001b[0ms\u001b[0m\u001b[1;33m)\u001b[0m\u001b[1;33m\u001b[0m\u001b[1;33m\u001b[0m\u001b[0m\n\u001b[0m",
      "\u001b[1;32m~\\AppData\\Local\\Temp\\ipykernel_2764\\191764689.py\u001b[0m in \u001b[0;36mtree2str\u001b[1;34m(root)\u001b[0m\n\u001b[0;32m     15\u001b[0m         \u001b[1;32mreturn\u001b[0m \u001b[0msubString\u001b[0m\u001b[1;33m\u001b[0m\u001b[1;33m\u001b[0m\u001b[0m\n\u001b[0;32m     16\u001b[0m \u001b[1;33m\u001b[0m\u001b[0m\n\u001b[1;32m---> 17\u001b[1;33m     \u001b[1;32mreturn\u001b[0m \u001b[0msolve\u001b[0m\u001b[1;33m(\u001b[0m\u001b[0mroot\u001b[0m\u001b[1;33m)\u001b[0m\u001b[1;33m\u001b[0m\u001b[1;33m\u001b[0m\u001b[0m\n\u001b[0m\u001b[0;32m     18\u001b[0m \u001b[0mtree2str\u001b[0m\u001b[1;33m(\u001b[0m\u001b[0ms\u001b[0m\u001b[1;33m)\u001b[0m\u001b[1;33m\u001b[0m\u001b[1;33m\u001b[0m\u001b[0m\n",
      "\u001b[1;32m~\\AppData\\Local\\Temp\\ipykernel_2764\\191764689.py\u001b[0m in \u001b[0;36msolve\u001b[1;34m(curNode)\u001b[0m\n\u001b[0;32m      5\u001b[0m             \u001b[1;32mreturn\u001b[0m \u001b[1;34m''\u001b[0m\u001b[1;33m\u001b[0m\u001b[1;33m\u001b[0m\u001b[0m\n\u001b[0;32m      6\u001b[0m \u001b[1;33m\u001b[0m\u001b[0m\n\u001b[1;32m----> 7\u001b[1;33m         \u001b[0msubString\u001b[0m \u001b[1;33m=\u001b[0m \u001b[0mstr\u001b[0m\u001b[1;33m(\u001b[0m\u001b[0mcurNode\u001b[0m\u001b[1;33m.\u001b[0m\u001b[0mval\u001b[0m\u001b[1;33m)\u001b[0m\u001b[1;33m\u001b[0m\u001b[1;33m\u001b[0m\u001b[0m\n\u001b[0m\u001b[0;32m      8\u001b[0m         \u001b[1;32mif\u001b[0m \u001b[1;32mnot\u001b[0m \u001b[0mcurNode\u001b[0m\u001b[1;33m.\u001b[0m\u001b[0mleft\u001b[0m \u001b[1;32mand\u001b[0m \u001b[1;32mnot\u001b[0m \u001b[0mcurNode\u001b[0m\u001b[1;33m.\u001b[0m\u001b[0mright\u001b[0m\u001b[1;33m:\u001b[0m\u001b[1;33m\u001b[0m\u001b[1;33m\u001b[0m\u001b[0m\n\u001b[0;32m      9\u001b[0m             \u001b[1;32mreturn\u001b[0m \u001b[0msubString\u001b[0m\u001b[1;33m\u001b[0m\u001b[1;33m\u001b[0m\u001b[0m\n",
      "\u001b[1;31mAttributeError\u001b[0m: 'str' object has no attribute 'val'"
     ]
    }
   ],
   "source": [
    "s = input()\n",
    "def tree2str(root) -> str:\n",
    "    def solve(curNode):\n",
    "        if not curNode:\n",
    "            return ''\n",
    "        \n",
    "        subString = str(curNode.val)\n",
    "        if not curNode.left and not curNode.right:\n",
    "            return subString\n",
    "\t\t\n",
    "        subString += '(' + solve(curNode.left) + ')'\n",
    "        if curNode.right:\n",
    "            subString += '(' + solve(curNode.right) + ')'\n",
    "        \n",
    "        return subString\n",
    "   \n",
    "    return solve(root)\n",
    "tree2str(s)"
   ]
  },
  {
   "cell_type": "code",
   "execution_count": 16,
   "id": "db7d72d2",
   "metadata": {},
   "outputs": [
    {
     "data": {
      "text/plain": [
       "'**Question 5**\\n\\nGiven an array of characters chars, compress it using the following algorithm:\\n\\nBegin with an empty string s. For each group of **consecutive repeating characters** in chars:\\n\\n- If the group\\'s length is 1, append the character to s.\\n- Otherwise, append the character followed by the group\\'s length.\\n\\nThe compressed string s **should not be returned separately**, but instead, be stored **in the input character array chars**. Note that group lengths that are 10 or longer will be split into multiple characters in chars.\\n\\nAfter you are done **modifying the input array,** return *the new length of the array*.\\n\\nYou must write an algorithm that uses only constant extra space.\\n\\n**Example 1:**\\n\\n**Input:** chars = [\"a\",\"a\",\"b\",\"b\",\"c\",\"c\",\"c\"]\\n\\n**Output:** Return 6, and the first 6 characters of the input array should be: [\"a\",\"2\",\"b\",\"2\",\"c\",\"3\"]\\n\\n**Explanation:**\\n\\nThe groups are \"aa\", \"bb\", and \"ccc\". This compresses to \"a2b2c3\".'"
      ]
     },
     "execution_count": 16,
     "metadata": {},
     "output_type": "execute_result"
    }
   ],
   "source": [
    "'''**Question 5**\n",
    "\n",
    "Given an array of characters chars, compress it using the following algorithm:\n",
    "\n",
    "Begin with an empty string s. For each group of **consecutive repeating characters** in chars:\n",
    "\n",
    "- If the group's length is 1, append the character to s.\n",
    "- Otherwise, append the character followed by the group's length.\n",
    "\n",
    "The compressed string s **should not be returned separately**, but instead, be stored **in the input character array chars**. Note that group lengths that are 10 or longer will be split into multiple characters in chars.\n",
    "\n",
    "After you are done **modifying the input array,** return *the new length of the array*.\n",
    "\n",
    "You must write an algorithm that uses only constant extra space.\n",
    "\n",
    "**Example 1:**\n",
    "\n",
    "**Input:** chars = [\"a\",\"a\",\"b\",\"b\",\"c\",\"c\",\"c\"]\n",
    "\n",
    "**Output:** Return 6, and the first 6 characters of the input array should be: [\"a\",\"2\",\"b\",\"2\",\"c\",\"3\"]\n",
    "\n",
    "**Explanation:**\n",
    "\n",
    "The groups are \"aa\", \"bb\", and \"ccc\". This compresses to \"a2b2c3\".'''"
   ]
  },
  {
   "cell_type": "code",
   "execution_count": 17,
   "id": "f7980ee7",
   "metadata": {},
   "outputs": [
    {
     "name": "stdout",
     "output_type": "stream",
     "text": [
      "[\"a\",\"a\",\"b\",\"b\",\"c\",\"c\",\"c\"]\n",
      "6\n"
     ]
    }
   ],
   "source": [
    "char = list(map(str,input()[2:-2].split('\",\"')))\n",
    "char = ''.join(char)\n",
    "n = ''\n",
    "for i in set(char):\n",
    "    n = n + i + str(char.count(i))\n",
    "print(len(n))"
   ]
  },
  {
   "cell_type": "code",
   "execution_count": 18,
   "id": "6f681908",
   "metadata": {},
   "outputs": [
    {
     "data": {
      "text/plain": [
       "'**uestion 6**\\n\\nGiven two strings s and p, return *an array of all the start indices of* p*\\'s anagrams in* s. You may return the answer in **any order**.\\n\\nAn **Anagram** is a word or phrase formed by rearranging the letters of a different word or phrase, typically using all the original letters exactly once.\\n\\n**Example 1:**\\n\\n**Input:** s = \"cbaebabacd\", p = \"abc\"\\n\\n**Output:** [0,6]\\n\\n**Explanation:**\\n\\nThe substring with start index = 0 is \"cba\", which is an anagram of \"abc\".\\n\\nThe substring with start index = 6 is \"bac\", which is an anagram of \"abc\".'"
      ]
     },
     "execution_count": 18,
     "metadata": {},
     "output_type": "execute_result"
    }
   ],
   "source": [
    "'''**uestion 6**\n",
    "\n",
    "Given two strings s and p, return *an array of all the start indices of* p*'s anagrams in* s. You may return the answer in **any order**.\n",
    "\n",
    "An **Anagram** is a word or phrase formed by rearranging the letters of a different word or phrase, typically using all the original letters exactly once.\n",
    "\n",
    "**Example 1:**\n",
    "\n",
    "**Input:** s = \"cbaebabacd\", p = \"abc\"\n",
    "\n",
    "**Output:** [0,6]\n",
    "\n",
    "**Explanation:**\n",
    "\n",
    "The substring with start index = 0 is \"cba\", which is an anagram of \"abc\".\n",
    "\n",
    "The substring with start index = 6 is \"bac\", which is an anagram of \"abc\".'''"
   ]
  },
  {
   "cell_type": "code",
   "execution_count": 19,
   "id": "89e27499",
   "metadata": {},
   "outputs": [
    {
     "name": "stdout",
     "output_type": "stream",
     "text": [
      "cbaebabacd\n",
      "abc\n"
     ]
    },
    {
     "data": {
      "text/plain": [
       "[0, 6]"
      ]
     },
     "execution_count": 19,
     "metadata": {},
     "output_type": "execute_result"
    }
   ],
   "source": [
    "s = input()\n",
    "p = input()\n",
    "n = []\n",
    "d = {i:p.count(i) for i in p}\n",
    "def substring(s,p):\n",
    "    if len(s) < len(p):\n",
    "        return []\n",
    "    its = 0\n",
    "    while its < len(s):\n",
    "        a = s[its:its+len(p)]\n",
    "        if {i:a.count(i) for i in a} == d:\n",
    "            n.append(its)\n",
    "            its = its + len(p)\n",
    "        else:\n",
    "            its += 1\n",
    "    return n\n",
    "            \n",
    "substring(s,p)"
   ]
  },
  {
   "cell_type": "code",
   "execution_count": 20,
   "id": "286d64da",
   "metadata": {},
   "outputs": [
    {
     "data": {
      "text/plain": [
       "'**Question 7**\\n\\nGiven an encoded string, return its decoded string.\\n\\nThe encoding rule is: k[encoded_string], where the encoded_string inside the square brackets is being repeated exactly k times. Note that k is guaranteed to be a positive integer.\\n\\nYou may assume that the input string is always valid; there are no extra white spaces, square brackets are well-formed, etc. Furthermore, you may assume that the original data does not contain any digits and that digits are only for those repeat numbers, k. For example, there will not be input like 3a or 2[4].\\n\\nThe test cases are generated so that the length of the output will never exceed 105.\\n\\n**Example 1:**\\n\\n**Input:** s = \"3[a]2[bc]\"\\n\\n**Output:** \"aaabcbc\"'"
      ]
     },
     "execution_count": 20,
     "metadata": {},
     "output_type": "execute_result"
    }
   ],
   "source": [
    "'''**Question 7**\n",
    "\n",
    "Given an encoded string, return its decoded string.\n",
    "\n",
    "The encoding rule is: k[encoded_string], where the encoded_string inside the square brackets is being repeated exactly k times. Note that k is guaranteed to be a positive integer.\n",
    "\n",
    "You may assume that the input string is always valid; there are no extra white spaces, square brackets are well-formed, etc. Furthermore, you may assume that the original data does not contain any digits and that digits are only for those repeat numbers, k. For example, there will not be input like 3a or 2[4].\n",
    "\n",
    "The test cases are generated so that the length of the output will never exceed 105.\n",
    "\n",
    "**Example 1:**\n",
    "\n",
    "**Input:** s = \"3[a]2[bc]\"\n",
    "\n",
    "**Output:** \"aaabcbc\"'''"
   ]
  },
  {
   "cell_type": "code",
   "execution_count": 25,
   "id": "e2e98dc1",
   "metadata": {},
   "outputs": [
    {
     "name": "stdout",
     "output_type": "stream",
     "text": [
      "3[a]2[bc]\n",
      "aaabcbc\n"
     ]
    }
   ],
   "source": [
    "s = input()\n",
    "n = []\n",
    "for i in range(len(s)):\n",
    "    if i + 1 <  len(s) and s[i+1] == '[' :\n",
    "        n.append(int(s[i]))\n",
    "        c = ''\n",
    "    elif s[i] not in '[]':\n",
    "        c = c + s[i]\n",
    "    elif s[i] == ']':\n",
    "        n.append(c)\n",
    "s = ''\n",
    "for i in range(0,len(n),2):\n",
    "    s = s + n[i] * n[i+1]\n",
    "print(s)"
   ]
  },
  {
   "cell_type": "code",
   "execution_count": 26,
   "id": "6e4ed87b",
   "metadata": {},
   "outputs": [
    {
     "data": {
      "text/plain": [
       "'**Question 8**\\n\\nGiven two strings s and goal, return true *if you can swap two letters in* s *so the result is equal to* goal*, otherwise, return* false*.*\\n\\nSwapping letters is defined as taking two indices i and j (0-indexed) such that i != j and swapping the characters at s[i] and s[j].\\n\\n- For example, swapping at indices 0 and 2 in \"abcd\" results in \"cbad\".\\n\\n**Example 1:**\\n\\n**Input:** s = \"ab\", goal = \"ba\"\\n\\n**Output:** true\\n\\n**Explanation:** You can swap s[0] = \\'a\\' and s[1] = \\'b\\' to get \"ba\", which is equal to goal.'"
      ]
     },
     "execution_count": 26,
     "metadata": {},
     "output_type": "execute_result"
    }
   ],
   "source": [
    "'''**Question 8**\n",
    "\n",
    "Given two strings s and goal, return true *if you can swap two letters in* s *so the result is equal to* goal*, otherwise, return* false*.*\n",
    "\n",
    "Swapping letters is defined as taking two indices i and j (0-indexed) such that i != j and swapping the characters at s[i] and s[j].\n",
    "\n",
    "- For example, swapping at indices 0 and 2 in \"abcd\" results in \"cbad\".\n",
    "\n",
    "**Example 1:**\n",
    "\n",
    "**Input:** s = \"ab\", goal = \"ba\"\n",
    "\n",
    "**Output:** true\n",
    "\n",
    "**Explanation:** You can swap s[0] = 'a' and s[1] = 'b' to get \"ba\", which is equal to goal.'''"
   ]
  },
  {
   "cell_type": "code",
   "execution_count": 28,
   "id": "1a0607a3",
   "metadata": {},
   "outputs": [
    {
     "name": "stdout",
     "output_type": "stream",
     "text": [
      "ab\n",
      "ba\n"
     ]
    },
    {
     "data": {
      "text/plain": [
       "True"
      ]
     },
     "execution_count": 28,
     "metadata": {},
     "output_type": "execute_result"
    }
   ],
   "source": [
    "s = input()\n",
    "goal = input()\n",
    "def swapping(s,goal):\n",
    "        if len(s) != len(goal): return False\n",
    "        if s == goal:\n",
    "            return True if len(s) - len(set(s)) >= 1 else False\n",
    "        \n",
    "        diff = []\n",
    "        for i in range(len(s)):\n",
    "            if s[i] != goal[i]:\n",
    "                diff.append(i)\n",
    "                if len(diff) > 2: \n",
    "                    return False\n",
    "        return True\n",
    "swapping(s,goal)"
   ]
  }
 ],
 "metadata": {
  "kernelspec": {
   "display_name": "Python 3 (ipykernel)",
   "language": "python",
   "name": "python3"
  },
  "language_info": {
   "codemirror_mode": {
    "name": "ipython",
    "version": 3
   },
   "file_extension": ".py",
   "mimetype": "text/x-python",
   "name": "python",
   "nbconvert_exporter": "python",
   "pygments_lexer": "ipython3",
   "version": "3.9.13"
  }
 },
 "nbformat": 4,
 "nbformat_minor": 5
}
